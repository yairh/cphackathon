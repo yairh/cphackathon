{
 "cells": [
  {
   "cell_type": "code",
   "execution_count": 95,
   "metadata": {
    "ExecuteTime": {
     "end_time": "2019-01-27T14:34:45.283787Z",
     "start_time": "2019-01-27T14:34:45.274932Z"
    },
    "scrolled": true
   },
   "outputs": [],
   "source": [
    "import pandas as pd\n",
    "import numpy as np\n",
    "import requests\n",
    "import matplotlib.pyplot as plt\n",
    "import seaborn as sns\n",
    "from sklearn.decomposition import PCA\n",
    "from sklearn.ensemble import RandomForestClassifier\n",
    "from sklearn.tree import DecisionTreeClassifier\n",
    "import re\n",
    "import csv\n",
    "from sklearn.model_selection import train_test_split\n",
    "from xgboost import XGBClassifier\n",
    "from sklearn.metrics import classification_report,precision_recall_fscore_support\n",
    "from IPython.display import Image  \n",
    "from sklearn.tree import export_graphviz\n",
    "from IPython.display import SVG\n",
    "# from graphviz import Source\n",
    "from IPython.display import display"
   ]
  },
  {
   "cell_type": "code",
   "execution_count": 96,
   "metadata": {
    "ExecuteTime": {
     "end_time": "2019-01-27T14:34:48.619902Z",
     "start_time": "2019-01-27T14:34:48.613562Z"
    }
   },
   "outputs": [],
   "source": [
    "def split_len(x):\n",
    "    return len(x.split('.'))"
   ]
  },
  {
   "cell_type": "code",
   "execution_count": 97,
   "metadata": {
    "ExecuteTime": {
     "end_time": "2019-01-27T14:34:52.435859Z",
     "start_time": "2019-01-27T14:34:52.241015Z"
    }
   },
   "outputs": [],
   "source": [
    "df_train_benin = pd.read_csv('Data/Train_Benign_Traffic.csv',encoding=\"latin1\")\n",
    "df_train_mal = pd.read_csv('Data/Train_Detections.csv')\n",
    "df_test = pd.read_csv('Data/Test_Set_Hackathon.csv')\n",
    "df_train_ips = pd.read_csv('Data/Train_IPS.csv')\n",
    "df_ips = pd.read_csv('Data/IPTypes.csv').set_index('ip')"
   ]
  },
  {
   "cell_type": "code",
   "execution_count": 98,
   "metadata": {
    "ExecuteTime": {
     "end_time": "2019-01-27T14:34:55.639868Z",
     "start_time": "2019-01-27T14:34:55.411774Z"
    }
   },
   "outputs": [
    {
     "name": "stderr",
     "output_type": "stream",
     "text": [
      "/home/yair/anaconda3/envs/CP/lib/python3.6/site-packages/ipykernel_launcher.py:4: FutureWarning: Sorting because non-concatenation axis is not aligned. A future version\n",
      "of pandas will change to not sort by default.\n",
      "\n",
      "To accept the future behavior, pass 'sort=False'.\n",
      "\n",
      "To retain the current behavior and silence the warning, pass 'sort=True'.\n",
      "\n",
      "  after removing the cwd from sys.path.\n"
     ]
    },
    {
     "data": {
      "text/html": [
       "<div>\n",
       "<style scoped>\n",
       "    .dataframe tbody tr th:only-of-type {\n",
       "        vertical-align: middle;\n",
       "    }\n",
       "\n",
       "    .dataframe tbody tr th {\n",
       "        vertical-align: top;\n",
       "    }\n",
       "\n",
       "    .dataframe thead th {\n",
       "        text-align: right;\n",
       "    }\n",
       "</style>\n",
       "<table border=\"1\" class=\"dataframe\">\n",
       "  <thead>\n",
       "    <tr style=\"text-align: right;\">\n",
       "      <th></th>\n",
       "      <th>client</th>\n",
       "      <th>dst_ip</th>\n",
       "      <th>dst_port</th>\n",
       "      <th>epoch_time</th>\n",
       "      <th>label</th>\n",
       "      <th>protocol</th>\n",
       "      <th>received_bytes</th>\n",
       "      <th>sent_bytes</th>\n",
       "      <th>src_ip</th>\n",
       "    </tr>\n",
       "  </thead>\n",
       "  <tbody>\n",
       "    <tr>\n",
       "      <th>0</th>\n",
       "      <td>2</td>\n",
       "      <td>222.58.210.46</td>\n",
       "      <td>443.0</td>\n",
       "      <td>1547242292</td>\n",
       "      <td>benign</td>\n",
       "      <td>TCP</td>\n",
       "      <td>44096</td>\n",
       "      <td>67712</td>\n",
       "      <td>10.197.88.33</td>\n",
       "    </tr>\n",
       "    <tr>\n",
       "      <th>1</th>\n",
       "      <td>5</td>\n",
       "      <td>110.244.46.16</td>\n",
       "      <td>443.0</td>\n",
       "      <td>1547468725</td>\n",
       "      <td>benign</td>\n",
       "      <td>TCP</td>\n",
       "      <td>7712</td>\n",
       "      <td>1990</td>\n",
       "      <td>10.0.11.69</td>\n",
       "    </tr>\n",
       "    <tr>\n",
       "      <th>2</th>\n",
       "      <td>2</td>\n",
       "      <td>23.130.21.5</td>\n",
       "      <td>443.0</td>\n",
       "      <td>1547415821</td>\n",
       "      <td>benign</td>\n",
       "      <td>TCP</td>\n",
       "      <td>12928</td>\n",
       "      <td>8464</td>\n",
       "      <td>192.168.174.137</td>\n",
       "    </tr>\n",
       "    <tr>\n",
       "      <th>3</th>\n",
       "      <td>2</td>\n",
       "      <td>71.55.163.78</td>\n",
       "      <td>443.0</td>\n",
       "      <td>1547152973</td>\n",
       "      <td>benign</td>\n",
       "      <td>TCP</td>\n",
       "      <td>19808</td>\n",
       "      <td>4376</td>\n",
       "      <td>192.168.190.183</td>\n",
       "    </tr>\n",
       "    <tr>\n",
       "      <th>4</th>\n",
       "      <td>5</td>\n",
       "      <td>230.0.0.1</td>\n",
       "      <td>-1.0</td>\n",
       "      <td>1547070189</td>\n",
       "      <td>benign</td>\n",
       "      <td>TCP</td>\n",
       "      <td>0</td>\n",
       "      <td>252</td>\n",
       "      <td>10.0.11.2</td>\n",
       "    </tr>\n",
       "  </tbody>\n",
       "</table>\n",
       "</div>"
      ],
      "text/plain": [
       "   client         dst_ip  dst_port  epoch_time   label protocol  \\\n",
       "0       2  222.58.210.46     443.0  1547242292  benign      TCP   \n",
       "1       5  110.244.46.16     443.0  1547468725  benign      TCP   \n",
       "2       2    23.130.21.5     443.0  1547415821  benign      TCP   \n",
       "3       2   71.55.163.78     443.0  1547152973  benign      TCP   \n",
       "4       5      230.0.0.1      -1.0  1547070189  benign      TCP   \n",
       "\n",
       "   received_bytes  sent_bytes           src_ip  \n",
       "0           44096       67712     10.197.88.33  \n",
       "1            7712        1990       10.0.11.69  \n",
       "2           12928        8464  192.168.174.137  \n",
       "3           19808        4376  192.168.190.183  \n",
       "4               0         252        10.0.11.2  "
      ]
     },
     "execution_count": 98,
     "metadata": {},
     "output_type": "execute_result"
    }
   ],
   "source": [
    "# easter_eggs = df[df.dst_ip.map(split_len) > 4 ].dst_ip\n",
    "df_train_benin.dst_port = df_train_benin.dst_port.fillna(value=-1)\n",
    "df_train_benin['label'] = 'benign'\n",
    "df_train = pd.concat([df_train_benin,df_train_mal]).reset_index()\n",
    "df_train = df_train.drop(['index','Unnamed: 0','app_name','app_risk'],axis=1)\n",
    "df_train = df_train[df_train.dst_ip.map(split_len) < 5 ].reset_index()\n",
    "df_train = df_train[df_train.src_ip.map(split_len) < 5 ].reset_index().drop(['index','level_0'],axis=1)\n",
    "df_train.head()"
   ]
  },
  {
   "cell_type": "code",
   "execution_count": 99,
   "metadata": {
    "ExecuteTime": {
     "end_time": "2019-01-27T14:35:00.259668Z",
     "start_time": "2019-01-27T14:34:59.525240Z"
    }
   },
   "outputs": [],
   "source": [
    "df_train.protocol = df_train.protocol.replace({'UDP':2,'TCP':1})\n",
    "df_train = df_train.join(df_ips,on='src_ip',rsuffix='_src').drop('Unnamed: 0',axis=1)\n",
    "df_train = df_train.join(df_ips,on='src_ip',rsuffix='_src').drop('Unnamed: 0',axis=1)\n",
    "df_train = df_train.join(df_ips,on='dst_ip',lsuffix='_dst').drop(['type', 'subtype', 'Unnamed: 0'],axis=1)\n",
    "df_train['log_sent_bytes'] = np.log1p(df_train.sent_bytes).astype(int)\n",
    "df_train['log_received_bytes'] = np.log1p(df_train.received_bytes).astype(int)\n",
    "df_train =  pd.concat([pd.DataFrame(df_train.dst_ip.apply(lambda x: x.split('.')).values.tolist(),\n",
    "             columns=['dst_int_1','dst_int_2','dst_int_3','dst_int_4']),df_train],axis=1)\n",
    "df_train =  pd.concat([pd.DataFrame(df_train.src_ip.apply(lambda x: x.split('.')).values.tolist(),\n",
    "             columns=['src_int_1','src_int_2','src_int_3','src_int_4']),df_train],axis=1)\n",
    "\n",
    "\n",
    "df_train.label = df_train.label.replace({'benign':False,'Malware':True,'Adware':True})\n",
    "\n",
    "df_train.type_dst = df_train.type_dst.replace({'Internal':0,'External':1,'Multicast':2,'Broadcast address':3})\n",
    "df_train.type_src = df_train.type_src.replace({'Internal':0,'External':1,'Multicast':2,'Broadcast address':3})\n",
    "df_train.subtype_dst = df_train.subtype_dst.replace(\n",
    "    {'Class A':0, 'Class C':1, 'External':2,'Multicast':3,'Class B':4,'Broadcast address':5})\n",
    "df_train.subtype_src = df_train.subtype_src.replace(\n",
    "    {'Class A':0, 'Class C':1, 'External':2,'Multicast':3,'Class B':4,'Broadcast address':5})"
   ]
  },
  {
   "cell_type": "code",
   "execution_count": 102,
   "metadata": {
    "ExecuteTime": {
     "end_time": "2019-01-27T14:35:18.461140Z",
     "start_time": "2019-01-27T14:35:18.426000Z"
    }
   },
   "outputs": [
    {
     "data": {
      "text/html": [
       "<div>\n",
       "<style scoped>\n",
       "    .dataframe tbody tr th:only-of-type {\n",
       "        vertical-align: middle;\n",
       "    }\n",
       "\n",
       "    .dataframe tbody tr th {\n",
       "        vertical-align: top;\n",
       "    }\n",
       "\n",
       "    .dataframe thead th {\n",
       "        text-align: right;\n",
       "    }\n",
       "</style>\n",
       "<table border=\"1\" class=\"dataframe\">\n",
       "  <thead>\n",
       "    <tr style=\"text-align: right;\">\n",
       "      <th></th>\n",
       "      <th>src_int_1</th>\n",
       "      <th>src_int_2</th>\n",
       "      <th>src_int_3</th>\n",
       "      <th>src_int_4</th>\n",
       "      <th>dst_int_1</th>\n",
       "      <th>dst_int_2</th>\n",
       "      <th>dst_int_3</th>\n",
       "      <th>dst_int_4</th>\n",
       "      <th>client</th>\n",
       "      <th>dst_ip</th>\n",
       "      <th>...</th>\n",
       "      <th>protocol</th>\n",
       "      <th>received_bytes</th>\n",
       "      <th>sent_bytes</th>\n",
       "      <th>src_ip</th>\n",
       "      <th>type_dst</th>\n",
       "      <th>subtype_dst</th>\n",
       "      <th>type_src</th>\n",
       "      <th>subtype_src</th>\n",
       "      <th>log_sent_bytes</th>\n",
       "      <th>log_received_bytes</th>\n",
       "    </tr>\n",
       "  </thead>\n",
       "  <tbody>\n",
       "    <tr>\n",
       "      <th>0</th>\n",
       "      <td>10</td>\n",
       "      <td>197</td>\n",
       "      <td>88</td>\n",
       "      <td>33</td>\n",
       "      <td>222</td>\n",
       "      <td>58</td>\n",
       "      <td>210</td>\n",
       "      <td>46</td>\n",
       "      <td>2</td>\n",
       "      <td>222.58.210.46</td>\n",
       "      <td>...</td>\n",
       "      <td>1</td>\n",
       "      <td>44096</td>\n",
       "      <td>67712</td>\n",
       "      <td>10.197.88.33</td>\n",
       "      <td>0</td>\n",
       "      <td>0</td>\n",
       "      <td>0</td>\n",
       "      <td>0</td>\n",
       "      <td>11</td>\n",
       "      <td>10</td>\n",
       "    </tr>\n",
       "    <tr>\n",
       "      <th>1</th>\n",
       "      <td>10</td>\n",
       "      <td>0</td>\n",
       "      <td>11</td>\n",
       "      <td>69</td>\n",
       "      <td>110</td>\n",
       "      <td>244</td>\n",
       "      <td>46</td>\n",
       "      <td>16</td>\n",
       "      <td>5</td>\n",
       "      <td>110.244.46.16</td>\n",
       "      <td>...</td>\n",
       "      <td>1</td>\n",
       "      <td>7712</td>\n",
       "      <td>1990</td>\n",
       "      <td>10.0.11.69</td>\n",
       "      <td>0</td>\n",
       "      <td>0</td>\n",
       "      <td>0</td>\n",
       "      <td>0</td>\n",
       "      <td>7</td>\n",
       "      <td>8</td>\n",
       "    </tr>\n",
       "    <tr>\n",
       "      <th>2</th>\n",
       "      <td>192</td>\n",
       "      <td>168</td>\n",
       "      <td>174</td>\n",
       "      <td>137</td>\n",
       "      <td>23</td>\n",
       "      <td>130</td>\n",
       "      <td>21</td>\n",
       "      <td>5</td>\n",
       "      <td>2</td>\n",
       "      <td>23.130.21.5</td>\n",
       "      <td>...</td>\n",
       "      <td>1</td>\n",
       "      <td>12928</td>\n",
       "      <td>8464</td>\n",
       "      <td>192.168.174.137</td>\n",
       "      <td>0</td>\n",
       "      <td>1</td>\n",
       "      <td>0</td>\n",
       "      <td>1</td>\n",
       "      <td>9</td>\n",
       "      <td>9</td>\n",
       "    </tr>\n",
       "    <tr>\n",
       "      <th>3</th>\n",
       "      <td>192</td>\n",
       "      <td>168</td>\n",
       "      <td>190</td>\n",
       "      <td>183</td>\n",
       "      <td>71</td>\n",
       "      <td>55</td>\n",
       "      <td>163</td>\n",
       "      <td>78</td>\n",
       "      <td>2</td>\n",
       "      <td>71.55.163.78</td>\n",
       "      <td>...</td>\n",
       "      <td>1</td>\n",
       "      <td>19808</td>\n",
       "      <td>4376</td>\n",
       "      <td>192.168.190.183</td>\n",
       "      <td>0</td>\n",
       "      <td>1</td>\n",
       "      <td>0</td>\n",
       "      <td>1</td>\n",
       "      <td>8</td>\n",
       "      <td>9</td>\n",
       "    </tr>\n",
       "    <tr>\n",
       "      <th>4</th>\n",
       "      <td>10</td>\n",
       "      <td>0</td>\n",
       "      <td>11</td>\n",
       "      <td>2</td>\n",
       "      <td>230</td>\n",
       "      <td>0</td>\n",
       "      <td>0</td>\n",
       "      <td>1</td>\n",
       "      <td>5</td>\n",
       "      <td>230.0.0.1</td>\n",
       "      <td>...</td>\n",
       "      <td>1</td>\n",
       "      <td>0</td>\n",
       "      <td>252</td>\n",
       "      <td>10.0.11.2</td>\n",
       "      <td>0</td>\n",
       "      <td>0</td>\n",
       "      <td>0</td>\n",
       "      <td>0</td>\n",
       "      <td>5</td>\n",
       "      <td>0</td>\n",
       "    </tr>\n",
       "  </tbody>\n",
       "</table>\n",
       "<p>5 rows × 23 columns</p>\n",
       "</div>"
      ],
      "text/plain": [
       "  src_int_1 src_int_2 src_int_3 src_int_4 dst_int_1 dst_int_2 dst_int_3  \\\n",
       "0        10       197        88        33       222        58       210   \n",
       "1        10         0        11        69       110       244        46   \n",
       "2       192       168       174       137        23       130        21   \n",
       "3       192       168       190       183        71        55       163   \n",
       "4        10         0        11         2       230         0         0   \n",
       "\n",
       "  dst_int_4  client         dst_ip  ...  protocol received_bytes  sent_bytes  \\\n",
       "0        46       2  222.58.210.46  ...         1          44096       67712   \n",
       "1        16       5  110.244.46.16  ...         1           7712        1990   \n",
       "2         5       2    23.130.21.5  ...         1          12928        8464   \n",
       "3        78       2   71.55.163.78  ...         1          19808        4376   \n",
       "4         1       5      230.0.0.1  ...         1              0         252   \n",
       "\n",
       "            src_ip  type_dst  subtype_dst type_src  subtype_src  \\\n",
       "0     10.197.88.33         0            0        0            0   \n",
       "1       10.0.11.69         0            0        0            0   \n",
       "2  192.168.174.137         0            1        0            1   \n",
       "3  192.168.190.183         0            1        0            1   \n",
       "4        10.0.11.2         0            0        0            0   \n",
       "\n",
       "   log_sent_bytes  log_received_bytes  \n",
       "0              11                  10  \n",
       "1               7                   8  \n",
       "2               9                   9  \n",
       "3               8                   9  \n",
       "4               5                   0  \n",
       "\n",
       "[5 rows x 23 columns]"
      ]
     },
     "execution_count": 102,
     "metadata": {},
     "output_type": "execute_result"
    }
   ],
   "source": [
    "df_train.head()"
   ]
  },
  {
   "cell_type": "code",
   "execution_count": 103,
   "metadata": {
    "ExecuteTime": {
     "end_time": "2019-01-27T14:35:43.003766Z",
     "start_time": "2019-01-27T14:35:42.995921Z"
    }
   },
   "outputs": [],
   "source": [
    "def plot_count(series):\n",
    "    counts = series.value_counts()\n",
    "    plt.figure(figsize=(5,2))\n",
    "    sns.barplot(counts.index,counts)"
   ]
  },
  {
   "cell_type": "code",
   "execution_count": 104,
   "metadata": {
    "ExecuteTime": {
     "end_time": "2019-01-27T14:35:46.509284Z",
     "start_time": "2019-01-27T14:35:46.501663Z"
    }
   },
   "outputs": [],
   "source": [
    "def plot_pca(df):\n",
    "    pca = PCA(n_components=2)\n",
    "    to_pca = df.drop(['dst_ip','src_ip'],axis=1)\n",
    "    to_pca = to_pca.dropna()\n",
    "    labels_pca = to_pca.label\n",
    "    proj = pca.fit_transform(to_pca.drop(['label'],axis=1))\n",
    "    plt.figure(figsize=(10,6))\n",
    "    sns.scatterplot(proj[:,0],proj[:,1],hue=labels_pca)"
   ]
  },
  {
   "cell_type": "code",
   "execution_count": 105,
   "metadata": {
    "ExecuteTime": {
     "end_time": "2019-01-27T14:36:01.015826Z",
     "start_time": "2019-01-27T14:36:00.659160Z"
    }
   },
   "outputs": [],
   "source": [
    "#separate df for client\n",
    "df_train = pd.concat([df_train,pd.get_dummies(df_train.dst_port,prefix='port')],axis=1)\n",
    "df_1 = df_train[df_train.client == 1].drop('client',axis=1)\n",
    "df_2 = df_train[df_train.client == 2].drop('client',axis=1)\n",
    "df_3 = df_train[df_train.client == 3].drop('client',axis=1)\n",
    "df_4 = df_train[df_train.client == 4].drop('client',axis=1)\n",
    "df_5 = df_train[df_train.client == 5].drop('client',axis=1)"
   ]
  },
  {
   "cell_type": "code",
   "execution_count": 106,
   "metadata": {
    "ExecuteTime": {
     "end_time": "2019-01-27T14:36:04.362006Z",
     "start_time": "2019-01-27T14:36:04.358645Z"
    }
   },
   "outputs": [],
   "source": [
    "list_of_df = [df_1,df_2,df_3,df_4,df_5]\n",
    "\n",
    "# for i,df in enumerate(list_of_df):\n",
    "#     plot_count(df.label)\n",
    "#     plt.title(f'client {i+1}')\n",
    "#     plt.show()"
   ]
  },
  {
   "cell_type": "code",
   "execution_count": 107,
   "metadata": {
    "ExecuteTime": {
     "end_time": "2019-01-27T14:36:08.927926Z",
     "start_time": "2019-01-27T14:36:08.925133Z"
    },
    "scrolled": false
   },
   "outputs": [],
   "source": [
    "# for i, df in enumerate(list_of_df):\n",
    "#     plot_pca(df)\n",
    "#     plt.title(f'client {i+1}')\n",
    "#     plt.show()"
   ]
  },
  {
   "cell_type": "code",
   "execution_count": 108,
   "metadata": {
    "ExecuteTime": {
     "end_time": "2019-01-27T14:36:13.392989Z",
     "start_time": "2019-01-27T14:36:12.186685Z"
    }
   },
   "outputs": [
    {
     "name": "stderr",
     "output_type": "stream",
     "text": [
      "/home/yair/anaconda3/envs/CP/lib/python3.6/site-packages/sklearn/ensemble/forest.py:246: FutureWarning: The default value of n_estimators will change from 10 in version 0.20 to 100 in 0.22.\n",
      "  \"10 in version 0.20 to 100 in 0.22.\", FutureWarning)\n",
      "/home/yair/anaconda3/envs/CP/lib/python3.6/site-packages/sklearn/metrics/classification.py:1143: UndefinedMetricWarning: Precision and F-score are ill-defined and being set to 0.0 in labels with no predicted samples.\n",
      "  'precision', 'predicted', average, warn_for)\n",
      "/home/yair/anaconda3/envs/CP/lib/python3.6/site-packages/sklearn/ensemble/forest.py:246: FutureWarning: The default value of n_estimators will change from 10 in version 0.20 to 100 in 0.22.\n",
      "  \"10 in version 0.20 to 100 in 0.22.\", FutureWarning)\n",
      "/home/yair/anaconda3/envs/CP/lib/python3.6/site-packages/sklearn/ensemble/forest.py:246: FutureWarning: The default value of n_estimators will change from 10 in version 0.20 to 100 in 0.22.\n",
      "  \"10 in version 0.20 to 100 in 0.22.\", FutureWarning)\n",
      "/home/yair/anaconda3/envs/CP/lib/python3.6/site-packages/sklearn/ensemble/forest.py:246: FutureWarning: The default value of n_estimators will change from 10 in version 0.20 to 100 in 0.22.\n",
      "  \"10 in version 0.20 to 100 in 0.22.\", FutureWarning)\n",
      "/home/yair/anaconda3/envs/CP/lib/python3.6/site-packages/sklearn/ensemble/forest.py:246: FutureWarning: The default value of n_estimators will change from 10 in version 0.20 to 100 in 0.22.\n",
      "  \"10 in version 0.20 to 100 in 0.22.\", FutureWarning)\n"
     ]
    }
   ],
   "source": [
    "prediction = []\n",
    "models = []\n",
    "scores = []\n",
    "for df in list_of_df:\n",
    "    X = df.drop(['label','src_ip','dst_ip'],axis=1)\n",
    "    y = df.label\n",
    "    X_train, X_test, y_train, y_test = train_test_split(X, y, test_size=0.2, random_state=42)\n",
    "    \n",
    "    rf = RandomForestClassifier(class_weight='balanced')\n",
    "    rf.fit(X_train,y_train)\n",
    "    p = rf.predict(X_test)\n",
    "    prediction.append(p)\n",
    "    scores.append(precision_recall_fscore_support(y_test,p))\n",
    "    models.append(rf)\n",
    "    "
   ]
  },
  {
   "cell_type": "code",
   "execution_count": 117,
   "metadata": {
    "ExecuteTime": {
     "end_time": "2019-01-27T14:39:34.339480Z",
     "start_time": "2019-01-27T14:39:34.315506Z"
    }
   },
   "outputs": [],
   "source": [
    "def preprocessing(df):\n",
    "    df.protocol = df.protocol.replace({'UDP':2,'TCP':1})\n",
    "    df = df.join(df_ips,on='src_ip',rsuffix='_src').drop('Unnamed: 0',axis=1)\n",
    "    df = df.join(df_ips,on='src_ip',rsuffix='_src').drop('Unnamed: 0',axis=1)\n",
    "    df = df.join(df_ips,on='dst_ip',lsuffix='_dst').drop(['type', 'subtype', 'Unnamed: 0'],axis=1)\n",
    "    df['log_sent_bytes'] = np.log1p(df.sent_bytes).astype(int)\n",
    "    df['log_received_bytes'] = np.log1p(df.received_bytes).astype(int)\n",
    "    df =  pd.concat([pd.DataFrame(df.dst_ip.apply(lambda x: x.split('.')).values.tolist(),\n",
    "                 columns=['dst_int_1','dst_int_2','dst_int_3','dst_int_4']),df],axis=1)\n",
    "    df =  pd.concat([pd.DataFrame(df.src_ip.apply(lambda x: x.split('.')).values.tolist(),\n",
    "                 columns=['src_int_1','src_int_2','src_int_3','src_int_4']),df],axis=1)\n",
    "\n",
    "    df.type_dst = df.type_dst.replace({'Internal':0,'External':1,'Multicast':2,'Broadcast address':3})\n",
    "    df.type_src = df.type_src.replace({'Internal':0,'External':1,'Multicast':2,'Broadcast address':3})\n",
    "    df.subtype_dst = df.subtype_dst.replace(\n",
    "        {'Class A':0, 'Class C':1, 'External':2,'Multicast':3,'Class B':4,'Broadcast address':5})\n",
    "    df.subtype_src = df.subtype_src.replace(\n",
    "        {'Class A':0, 'Class C':1, 'External':2,'Multicast':3,'Class B':4,'Broadcast address':5})\n",
    "    df = pd.concat([df,pd.get_dummies(df.dst_port,prefix='port')],axis=1)\n",
    "    \n",
    "    df_1 = df[df.client == 1].drop('client',axis=1)\n",
    "    df_2 = df[df.client == 2].drop('client',axis=1)\n",
    "    df_3 = df[df.client == 3].drop('client',axis=1)\n",
    "    df_4 = df[df.client == 4].drop('client',axis=1)\n",
    "    df_5 = df[df.client == 5].drop('client',axis=1)\n",
    "    return df, [df_1,df_2,df_3,df_4,df_5]"
   ]
  },
  {
   "cell_type": "code",
   "execution_count": 122,
   "metadata": {
    "ExecuteTime": {
     "end_time": "2019-01-27T14:41:35.674908Z",
     "start_time": "2019-01-27T14:41:35.623109Z"
    }
   },
   "outputs": [
    {
     "data": {
      "text/html": [
       "<div>\n",
       "<style scoped>\n",
       "    .dataframe tbody tr th:only-of-type {\n",
       "        vertical-align: middle;\n",
       "    }\n",
       "\n",
       "    .dataframe tbody tr th {\n",
       "        vertical-align: top;\n",
       "    }\n",
       "\n",
       "    .dataframe thead th {\n",
       "        text-align: right;\n",
       "    }\n",
       "</style>\n",
       "<table border=\"1\" class=\"dataframe\">\n",
       "  <thead>\n",
       "    <tr style=\"text-align: right;\">\n",
       "      <th></th>\n",
       "      <th>client</th>\n",
       "      <th>dst_ip</th>\n",
       "      <th>dst_port</th>\n",
       "      <th>protocol</th>\n",
       "      <th>received_bytes</th>\n",
       "      <th>sent_bytes</th>\n",
       "      <th>src_ip</th>\n",
       "    </tr>\n",
       "  </thead>\n",
       "  <tbody>\n",
       "    <tr>\n",
       "      <th>0</th>\n",
       "      <td>2</td>\n",
       "      <td>230.0.0.251</td>\n",
       "      <td>5353.0</td>\n",
       "      <td>UDP</td>\n",
       "      <td>0</td>\n",
       "      <td>816</td>\n",
       "      <td>10.197.208.76</td>\n",
       "    </tr>\n",
       "    <tr>\n",
       "      <th>1</th>\n",
       "      <td>2</td>\n",
       "      <td>24.234.32.175</td>\n",
       "      <td>443.0</td>\n",
       "      <td>TCP</td>\n",
       "      <td>15200</td>\n",
       "      <td>374</td>\n",
       "      <td>10.197.208.78</td>\n",
       "    </tr>\n",
       "    <tr>\n",
       "      <th>2</th>\n",
       "      <td>2</td>\n",
       "      <td>10.200.105.183</td>\n",
       "      <td>443.0</td>\n",
       "      <td>TCP</td>\n",
       "      <td>4712</td>\n",
       "      <td>5760</td>\n",
       "      <td>10.200.44.127</td>\n",
       "    </tr>\n",
       "    <tr>\n",
       "      <th>3</th>\n",
       "      <td>5</td>\n",
       "      <td>178.217.10.142</td>\n",
       "      <td>443.0</td>\n",
       "      <td>TCP</td>\n",
       "      <td>52352</td>\n",
       "      <td>114560</td>\n",
       "      <td>10.0.11.80</td>\n",
       "    </tr>\n",
       "    <tr>\n",
       "      <th>4</th>\n",
       "      <td>5</td>\n",
       "      <td>44.67.14.232</td>\n",
       "      <td>80.0</td>\n",
       "      <td>TCP</td>\n",
       "      <td>92</td>\n",
       "      <td>132</td>\n",
       "      <td>10.0.11.94</td>\n",
       "    </tr>\n",
       "  </tbody>\n",
       "</table>\n",
       "</div>"
      ],
      "text/plain": [
       "   client          dst_ip  dst_port protocol  received_bytes  sent_bytes  \\\n",
       "0       2     230.0.0.251    5353.0      UDP               0         816   \n",
       "1       2   24.234.32.175     443.0      TCP           15200         374   \n",
       "2       2  10.200.105.183     443.0      TCP            4712        5760   \n",
       "3       5  178.217.10.142     443.0      TCP           52352      114560   \n",
       "4       5    44.67.14.232      80.0      TCP              92         132   \n",
       "\n",
       "          src_ip  \n",
       "0  10.197.208.76  \n",
       "1  10.197.208.78  \n",
       "2  10.200.44.127  \n",
       "3     10.0.11.80  \n",
       "4     10.0.11.94  "
      ]
     },
     "execution_count": 122,
     "metadata": {},
     "output_type": "execute_result"
    }
   ],
   "source": [
    "df_test = pd.read_csv('Data/Test_Set_Hackathon.csv')\n",
    "df_test = df_test.drop('Unnamed: 0',axis=1)\n",
    "df_test.head()"
   ]
  },
  {
   "cell_type": "code",
   "execution_count": 123,
   "metadata": {
    "ExecuteTime": {
     "end_time": "2019-01-27T14:41:38.973783Z",
     "start_time": "2019-01-27T14:41:38.788425Z"
    }
   },
   "outputs": [
    {
     "data": {
      "text/plain": [
       "Index(['src_int_1', 'src_int_2', 'src_int_3', 'src_int_4', 'dst_int_1',\n",
       "       'dst_int_2', 'dst_int_3', 'dst_int_4', 'client', 'dst_port', 'protocol',\n",
       "       'received_bytes', 'sent_bytes', 'type_dst', 'subtype_dst', 'type_src',\n",
       "       'subtype_src', 'log_sent_bytes', 'log_received_bytes', 'port_22.0',\n",
       "       'port_23.0', 'port_53.0', 'port_80.0', 'port_135.0', 'port_137.0',\n",
       "       'port_138.0', 'port_192.0', 'port_264.0', 'port_389.0', 'port_443.0',\n",
       "       'port_445.0', 'port_500.0', 'port_623.0', 'port_993.0', 'port_1812.0',\n",
       "       'port_1900.0', 'port_2152.0', 'port_2380.0', 'port_3268.0',\n",
       "       'port_3389.0', 'port_3478.0', 'port_3544.0', 'port_3702.0',\n",
       "       'port_3911.0', 'port_4500.0', 'port_5004.0', 'port_5060.0',\n",
       "       'port_5061.0', 'port_5065.0', 'port_5070.0', 'port_5080.0',\n",
       "       'port_5190.0', 'port_5223.0', 'port_5228.0', 'port_5242.0',\n",
       "       'port_5353.0', 'port_5355.0', 'port_5440.0', 'port_5601.0',\n",
       "       'port_5938.0', 'port_7003.0', 'port_7275.0', 'port_8080.0',\n",
       "       'port_8090.0', 'port_8194.0', 'port_8210.0', 'port_8530.0',\n",
       "       'port_8531.0', 'port_8801.0', 'port_9100.0', 'port_9358.0',\n",
       "       'port_9600.0', 'port_10000.0', 'port_10001.0', 'port_10100.0',\n",
       "       'port_12366.0', 'port_16384.0', 'port_16385.0', 'port_16386.0',\n",
       "       'port_18494.0', 'port_19302.0', 'port_22790.0', 'port_29080.0',\n",
       "       'port_44818.0', 'port_47808.0', 'port_49155.0', 'port_49344.0',\n",
       "       'port_51770.0', 'port_54996.0', 'port_57621.0', 'port_60856.0',\n",
       "       'port_60871.0', 'port_60881.0', 'port_60884.0', 'port_60887.0',\n",
       "       'port_61032.0', 'port_61111.0', 'port_61823.0', 'port_63324.0'],\n",
       "      dtype='object')"
      ]
     },
     "execution_count": 123,
     "metadata": {},
     "output_type": "execute_result"
    }
   ],
   "source": [
    "df_test,list_test = preprocessing(df_test)\n",
    "df_test = df_test.drop(['src_ip','dst_ip'],axis=1)"
   ]
  },
  {
   "cell_type": "code",
   "execution_count": 158,
   "metadata": {
    "ExecuteTime": {
     "end_time": "2019-01-27T15:19:48.805938Z",
     "start_time": "2019-01-27T15:19:48.801516Z"
    }
   },
   "outputs": [],
   "source": [
    "def my_pred(row):\n",
    "    idx = row['client']-1\n",
    "    model = models[idx]\n",
    "    arr = row.drop('client').values[:,np.newaxis]\n",
    "    return model.predict(arr)"
   ]
  },
  {
   "cell_type": "code",
   "execution_count": null,
   "metadata": {},
   "outputs": [],
   "source": [
    "preds = df_test.apply(lambda x: my_pred(x),axis=1)"
   ]
  },
  {
   "cell_type": "code",
   "execution_count": null,
   "metadata": {},
   "outputs": [],
   "source": [
    "preds = df_test.dst_ip.apply(lambda x: True if x == '8.8.8.8').astype(bool)"
   ]
  },
  {
   "cell_type": "code",
   "execution_count": 81,
   "metadata": {
    "ExecuteTime": {
     "end_time": "2019-01-27T14:30:54.967915Z",
     "start_time": "2019-01-27T14:30:54.897176Z"
    }
   },
   "outputs": [],
   "source": [
    "ips = df_train.src_ip\n",
    "ips.append(df_train.dst_ip)\n",
    "ips.append(df_test.src_ip)\n",
    "ips.append(df_test.dst_ip)\n",
    "pd.DataFrame(ips.unique()).to_csv('ips.csv',index=False)"
   ]
  },
  {
   "cell_type": "code",
   "execution_count": null,
   "metadata": {},
   "outputs": [],
   "source": [
    "preds = {v:bool(k) == True for v,k in dict(preds).items()}"
   ]
  },
  {
   "cell_type": "code",
   "execution_count": null,
   "metadata": {},
   "outputs": [],
   "source": [
    "r = requests.post('http://192.168.1.24:30000/submission',\n",
    "                   json={ 'team':'DeepZuchinis',\n",
    "                          'password':'4lbertKmus',\n",
    "                          'submission': preds\n",
    "                         },\n",
    "                   verify=False)"
   ]
  },
  {
   "cell_type": "code",
   "execution_count": null,
   "metadata": {},
   "outputs": [],
   "source": [
    "r.text"
   ]
  }
 ],
 "metadata": {
  "kernelspec": {
   "display_name": "CP",
   "language": "python",
   "name": "cp"
  },
  "language_info": {
   "codemirror_mode": {
    "name": "ipython",
    "version": 3
   },
   "file_extension": ".py",
   "mimetype": "text/x-python",
   "name": "python",
   "nbconvert_exporter": "python",
   "pygments_lexer": "ipython3",
   "version": "3.6.7"
  },
  "toc": {
   "base_numbering": 1,
   "nav_menu": {},
   "number_sections": true,
   "sideBar": true,
   "skip_h1_title": false,
   "title_cell": "Table of Contents",
   "title_sidebar": "Contents",
   "toc_cell": false,
   "toc_position": {},
   "toc_section_display": true,
   "toc_window_display": false
  },
  "varInspector": {
   "cols": {
    "lenName": 16,
    "lenType": 16,
    "lenVar": 40
   },
   "kernels_config": {
    "python": {
     "delete_cmd_postfix": "",
     "delete_cmd_prefix": "del ",
     "library": "var_list.py",
     "varRefreshCmd": "print(var_dic_list())"
    },
    "r": {
     "delete_cmd_postfix": ") ",
     "delete_cmd_prefix": "rm(",
     "library": "var_list.r",
     "varRefreshCmd": "cat(var_dic_list()) "
    }
   },
   "types_to_exclude": [
    "module",
    "function",
    "builtin_function_or_method",
    "instance",
    "_Feature"
   ],
   "window_display": false
  }
 },
 "nbformat": 4,
 "nbformat_minor": 2
}
