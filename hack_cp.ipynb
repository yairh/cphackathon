{
 "cells": [
  {
   "cell_type": "code",
   "execution_count": 68,
   "metadata": {
    "ExecuteTime": {
     "end_time": "2019-01-27T12:58:32.896783Z",
     "start_time": "2019-01-27T12:58:32.889542Z"
    }
   },
   "outputs": [],
   "source": [
    "import pandas as pd\n",
    "import numpy as np\n",
    "import requests\n",
    "import matplotlib.pyplot as plt\n",
    "import seaborn as sns\n",
    "from sklearn.decomposition import PCA\n",
    "from sklearn.ensemble import RandomForestClassifier\n",
    "from sklearn.tree import DecisionTreeClassifier\n",
    "import re\n",
    "import csv\n",
    "from sklearn.model_selection import train_test_split\n",
    "from xgboost import XGBClassifier\n",
    "from sklearn.metrics import classification_report,precision_recall_fscore_support\n",
    "# import ipwhois"
   ]
  },
  {
   "cell_type": "code",
   "execution_count": 69,
   "metadata": {
    "ExecuteTime": {
     "end_time": "2019-01-27T12:58:33.400971Z",
     "start_time": "2019-01-27T12:58:33.397974Z"
    }
   },
   "outputs": [],
   "source": [
    "def split_len(x):\n",
    "    return len(x.split('.'))"
   ]
  },
  {
   "cell_type": "code",
   "execution_count": 70,
   "metadata": {
    "ExecuteTime": {
     "end_time": "2019-01-27T12:58:34.048105Z",
     "start_time": "2019-01-27T12:58:33.860138Z"
    }
   },
   "outputs": [],
   "source": [
    "df_train_benin = pd.read_csv('Data/Train_Benign_Traffic.csv',encoding=\"latin1\")\n",
    "df_train_mal = pd.read_csv('Data/Train_Detections.csv')\n",
    "df_test = pd.read_csv('Data/Test_Set_Hackathon.csv')\n",
    "df_train_ips = pd.read_csv('Data/Train_IPS.csv')\n",
    "df_ips = pd.read_csv('Data/IPTypes.csv').set_index('ip')"
   ]
  },
  {
   "cell_type": "code",
   "execution_count": 71,
   "metadata": {
    "ExecuteTime": {
     "end_time": "2019-01-27T12:58:34.747295Z",
     "start_time": "2019-01-27T12:58:34.540026Z"
    }
   },
   "outputs": [
    {
     "name": "stderr",
     "output_type": "stream",
     "text": [
      "/home/yair/anaconda3/envs/CP/lib/python3.6/site-packages/ipykernel_launcher.py:4: FutureWarning: Sorting because non-concatenation axis is not aligned. A future version\n",
      "of pandas will change to not sort by default.\n",
      "\n",
      "To accept the future behavior, pass 'sort=False'.\n",
      "\n",
      "To retain the current behavior and silence the warning, pass 'sort=True'.\n",
      "\n",
      "  after removing the cwd from sys.path.\n"
     ]
    },
    {
     "data": {
      "text/html": [
       "<div>\n",
       "<style scoped>\n",
       "    .dataframe tbody tr th:only-of-type {\n",
       "        vertical-align: middle;\n",
       "    }\n",
       "\n",
       "    .dataframe tbody tr th {\n",
       "        vertical-align: top;\n",
       "    }\n",
       "\n",
       "    .dataframe thead th {\n",
       "        text-align: right;\n",
       "    }\n",
       "</style>\n",
       "<table border=\"1\" class=\"dataframe\">\n",
       "  <thead>\n",
       "    <tr style=\"text-align: right;\">\n",
       "      <th></th>\n",
       "      <th>client</th>\n",
       "      <th>dst_ip</th>\n",
       "      <th>dst_port</th>\n",
       "      <th>epoch_time</th>\n",
       "      <th>label</th>\n",
       "      <th>protocol</th>\n",
       "      <th>received_bytes</th>\n",
       "      <th>sent_bytes</th>\n",
       "      <th>src_ip</th>\n",
       "    </tr>\n",
       "  </thead>\n",
       "  <tbody>\n",
       "    <tr>\n",
       "      <th>0</th>\n",
       "      <td>2</td>\n",
       "      <td>222.58.210.46</td>\n",
       "      <td>443.0</td>\n",
       "      <td>1547242292</td>\n",
       "      <td>benign</td>\n",
       "      <td>2.0</td>\n",
       "      <td>44096</td>\n",
       "      <td>67712</td>\n",
       "      <td>10.197.88.33</td>\n",
       "    </tr>\n",
       "    <tr>\n",
       "      <th>1</th>\n",
       "      <td>5</td>\n",
       "      <td>110.244.46.16</td>\n",
       "      <td>443.0</td>\n",
       "      <td>1547468725</td>\n",
       "      <td>benign</td>\n",
       "      <td>2.0</td>\n",
       "      <td>7712</td>\n",
       "      <td>1990</td>\n",
       "      <td>10.0.11.69</td>\n",
       "    </tr>\n",
       "    <tr>\n",
       "      <th>2</th>\n",
       "      <td>2</td>\n",
       "      <td>23.130.21.5</td>\n",
       "      <td>443.0</td>\n",
       "      <td>1547415821</td>\n",
       "      <td>benign</td>\n",
       "      <td>2.0</td>\n",
       "      <td>12928</td>\n",
       "      <td>8464</td>\n",
       "      <td>192.168.174.137</td>\n",
       "    </tr>\n",
       "    <tr>\n",
       "      <th>3</th>\n",
       "      <td>2</td>\n",
       "      <td>71.55.163.78</td>\n",
       "      <td>443.0</td>\n",
       "      <td>1547152973</td>\n",
       "      <td>benign</td>\n",
       "      <td>2.0</td>\n",
       "      <td>19808</td>\n",
       "      <td>4376</td>\n",
       "      <td>192.168.190.183</td>\n",
       "    </tr>\n",
       "    <tr>\n",
       "      <th>4</th>\n",
       "      <td>5</td>\n",
       "      <td>230.0.0.1</td>\n",
       "      <td>NaN</td>\n",
       "      <td>1547070189</td>\n",
       "      <td>benign</td>\n",
       "      <td>1.0</td>\n",
       "      <td>0</td>\n",
       "      <td>252</td>\n",
       "      <td>10.0.11.2</td>\n",
       "    </tr>\n",
       "  </tbody>\n",
       "</table>\n",
       "</div>"
      ],
      "text/plain": [
       "   client         dst_ip  dst_port  epoch_time   label  protocol  \\\n",
       "0       2  222.58.210.46     443.0  1547242292  benign       2.0   \n",
       "1       5  110.244.46.16     443.0  1547468725  benign       2.0   \n",
       "2       2    23.130.21.5     443.0  1547415821  benign       2.0   \n",
       "3       2   71.55.163.78     443.0  1547152973  benign       2.0   \n",
       "4       5      230.0.0.1       NaN  1547070189  benign       1.0   \n",
       "\n",
       "   received_bytes  sent_bytes           src_ip  \n",
       "0           44096       67712     10.197.88.33  \n",
       "1            7712        1990       10.0.11.69  \n",
       "2           12928        8464  192.168.174.137  \n",
       "3           19808        4376  192.168.190.183  \n",
       "4               0         252        10.0.11.2  "
      ]
     },
     "execution_count": 71,
     "metadata": {},
     "output_type": "execute_result"
    }
   ],
   "source": [
    "features = df_test.columns[1:]\n",
    "# easter_eggs = df[df.dst_ip.map(split_len) > 4 ].dst_ip\n",
    "df_train_benin['label'] = 'benign'\n",
    "df_train = pd.concat([df_train_benin,df_train_mal]).reset_index()\n",
    "df_train = df_train.drop(['index','Unnamed: 0','app_name','app_risk'],axis=1)\n",
    "df_train.protocol = df_train_mal.protocol.replace({'UDP':2,'TCP':1})\n",
    "df_train = df_train[df_train.dst_ip.map(split_len) < 5 ].reset_index()\n",
    "df_train = df_train[df_train.src_ip.map(split_len) < 5 ].reset_index().drop(['index','level_0'],axis=1)\n",
    "df_train.head()"
   ]
  },
  {
   "cell_type": "code",
   "execution_count": 72,
   "metadata": {
    "ExecuteTime": {
     "end_time": "2019-01-27T12:58:39.217639Z",
     "start_time": "2019-01-27T12:58:38.659821Z"
    }
   },
   "outputs": [],
   "source": [
    "df_train = df_train.join(df_ips,on='src_ip',rsuffix='_src').drop('Unnamed: 0',axis=1)\n",
    "df_train = df_train.join(df_ips,on='src_ip',rsuffix='_src').drop('Unnamed: 0',axis=1)\n",
    "df_train = df_train.join(df_ips,on='dst_ip',lsuffix='_dst').drop(['type', 'subtype', 'Unnamed: 0'],axis=1)\n",
    "df_train['log_sent_bytes'] = np.log1p(df_train.sent_bytes).astype(int)\n",
    "df_train['log_received_bytes'] = np.log1p(df_train.received_bytes).astype(int)\n",
    "df_train =  pd.concat([pd.DataFrame(df_train.dst_ip.apply(lambda x: x.split('.')).values.tolist(),\n",
    "             columns=['dst_int_1','dst_int_2','dst_int_3','dst_int_4']),df_train],axis=1)\n",
    "df_train =  pd.concat([pd.DataFrame(df_train.src_ip.apply(lambda x: x.split('.')).values.tolist(),\n",
    "             columns=['src_int_1','src_int_2','src_int_3','src_int_4']),df_train],axis=1)"
   ]
  },
  {
   "cell_type": "code",
   "execution_count": null,
   "metadata": {},
   "outputs": [],
   "source": [
    "def plot_count(series):\n",
    "    counts = series.value_counts()\n",
    "    plt.figure(figsize=(5,2))\n",
    "    sns.barplot(counts.index,counts)"
   ]
  },
  {
   "cell_type": "code",
   "execution_count": null,
   "metadata": {},
   "outputs": [],
   "source": [
    "def plot_pca(df):\n",
    "    pca = PCA(n_components=2)\n",
    "    to_pca = df.drop(['dst_ip','src_ip'],axis=1)\n",
    "    to_pca = to_pca.dropna()\n",
    "    labels_pca = to_pca.label\n",
    "    proj = pca.fit_transform(to_pca.drop(['label'],axis=1))\n",
    "    plt.figure(figsize=(10,6))\n",
    "    sns.scatterplot(proj[:,0],proj[:,1],hue=labels_pca)"
   ]
  },
  {
   "cell_type": "code",
   "execution_count": null,
   "metadata": {},
   "outputs": [],
   "source": [
    "#dummies \n",
    "df_train = pd.concat([df_train,pd.get_dummies(df_train.dst_port,prefix='port')],axis=1)\n",
    "df_train = pd.concat([df_train,pd.get_dummies(df_train[['log_received_bytes','log_sent_bytes']]\n",
    "                                              ,prefix=['log_received_bytes','log_sent_bytes'])],axis=1)"
   ]
  },
  {
   "cell_type": "code",
   "execution_count": null,
   "metadata": {},
   "outputs": [],
   "source": [
    "#separate df for client\n",
    "\n",
    "df_1 = df_train[df_train.client == 1].drop('client',axis=1)\n",
    "df_2 = df_train[df_train.client == 2].drop('client',axis=1)\n",
    "df_3 = df_train[df_train.client == 3].drop('client',axis=1)\n",
    "df_4 = df_train[df_train.client == 4].drop('client',axis=1)\n",
    "df_5 = df_train[df_train.client == 5].drop('client',axis=1)"
   ]
  },
  {
   "cell_type": "code",
   "execution_count": null,
   "metadata": {},
   "outputs": [],
   "source": [
    "list_of_df = [df_1,df_2,df_3,df_4,df_5]\n",
    "\n",
    "for i,df in enumerate(list_of_df):\n",
    "    plot_count(df.label)\n",
    "    plt.title(f'client {i+1}')\n",
    "    plt.show()"
   ]
  },
  {
   "cell_type": "code",
   "execution_count": null,
   "metadata": {
    "scrolled": false
   },
   "outputs": [],
   "source": [
    "for i, df in enumerate(list_of_df):\n",
    "    plot_pca(df)\n",
    "    plt.title(f'client {i+1}')\n",
    "    plt.show()"
   ]
  },
  {
   "cell_type": "code",
   "execution_count": null,
   "metadata": {},
   "outputs": [],
   "source": [
    "prediction = []\n",
    "models = []\n",
    "scores = []\n",
    "for df in list_of_df:\n",
    "    X = df.drop(['label','src_ip','dst_ip'],axis=1)\n",
    "    y = df.label\n",
    "    X_train, X_test, y_train, y_test = train_test_split(X, y, test_size=0.2, random_state=42)\n",
    "    \n",
    "    rf = RandomForestClassifier(class_weight='balanced')\n",
    "    rf.fit(X_train,y_train)\n",
    "    p = rf.predict(X_test)\n",
    "    prediction.append(p)\n",
    "    scores.append(precision_recall_fscore_support(y_test,p))\n",
    "    models.append(rf)\n",
    "    "
   ]
  },
  {
   "cell_type": "code",
   "execution_count": null,
   "metadata": {},
   "outputs": [],
   "source": [
    "preds = df_test.dst_ip.apply(lambda x: True if x == '8.8.8.8' else False).astype(bool)"
   ]
  },
  {
   "cell_type": "code",
   "execution_count": null,
   "metadata": {},
   "outputs": [],
   "source": [
    "ips = df_train.src_ip\n",
    "ips.append(df_train.dst_ip)\n",
    "pd.DataFrame(ips.unique()).to_csv('ips.csv',index=False)"
   ]
  },
  {
   "cell_type": "code",
   "execution_count": null,
   "metadata": {},
   "outputs": [],
   "source": [
    "preds = {v:bool(k) == True for v,k in dict(preds).items()}"
   ]
  },
  {
   "cell_type": "code",
   "execution_count": null,
   "metadata": {},
   "outputs": [],
   "source": [
    "r = requests.post('http://192.168.1.24:30000/submission',\n",
    "                   json={ 'team':'DeepZuchinis',\n",
    "                          'password':'4lbertKmus',\n",
    "                          'submission': preds\n",
    "                         },\n",
    "                   verify=False)"
   ]
  },
  {
   "cell_type": "code",
   "execution_count": null,
   "metadata": {},
   "outputs": [],
   "source": [
    "r.text"
   ]
  }
 ],
 "metadata": {
  "kernelspec": {
   "display_name": "CP",
   "language": "python",
   "name": "cp"
  },
  "language_info": {
   "codemirror_mode": {
    "name": "ipython",
    "version": 3
   },
   "file_extension": ".py",
   "mimetype": "text/x-python",
   "name": "python",
   "nbconvert_exporter": "python",
   "pygments_lexer": "ipython3",
   "version": "3.6.7"
  },
  "toc": {
   "base_numbering": 1,
   "nav_menu": {},
   "number_sections": true,
   "sideBar": true,
   "skip_h1_title": false,
   "title_cell": "Table of Contents",
   "title_sidebar": "Contents",
   "toc_cell": false,
   "toc_position": {},
   "toc_section_display": true,
   "toc_window_display": false
  },
  "varInspector": {
   "cols": {
    "lenName": 16,
    "lenType": 16,
    "lenVar": 40
   },
   "kernels_config": {
    "python": {
     "delete_cmd_postfix": "",
     "delete_cmd_prefix": "del ",
     "library": "var_list.py",
     "varRefreshCmd": "print(var_dic_list())"
    },
    "r": {
     "delete_cmd_postfix": ") ",
     "delete_cmd_prefix": "rm(",
     "library": "var_list.r",
     "varRefreshCmd": "cat(var_dic_list()) "
    }
   },
   "types_to_exclude": [
    "module",
    "function",
    "builtin_function_or_method",
    "instance",
    "_Feature"
   ],
   "window_display": false
  }
 },
 "nbformat": 4,
 "nbformat_minor": 2
}
