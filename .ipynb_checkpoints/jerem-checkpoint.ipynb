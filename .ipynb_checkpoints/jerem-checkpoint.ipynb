{
 "cells": [
  {
   "cell_type": "code",
   "execution_count": 1,
   "metadata": {
    "ExecuteTime": {
     "end_time": "2019-01-27T13:08:39.382781Z",
     "start_time": "2019-01-27T13:08:37.927279Z"
    }
   },
   "outputs": [],
   "source": [
    "import pandas as pd\n",
    "import numpy as np\n",
    "import requests\n",
    "import matplotlib.pyplot as plt\n",
    "import seaborn as sns\n",
    "from sklearn.decomposition import PCA\n",
    "from sklearn.ensemble import RandomForestClassifier\n",
    "from sklearn.tree import DecisionTreeClassifier\n",
    "import re\n",
    "import csv\n",
    "from sklearn.model_selection import train_test_split\n",
    "from xgboost import XGBClassifier\n",
    "from sklearn.metrics import classification_report,precision_recall_fscore_support\n",
    "# import ipwhois"
   ]
  },
  {
   "cell_type": "code",
   "execution_count": 2,
   "metadata": {
    "ExecuteTime": {
     "end_time": "2019-01-27T13:08:39.389368Z",
     "start_time": "2019-01-27T13:08:39.385833Z"
    }
   },
   "outputs": [],
   "source": [
    "def split_len(x):\n",
    "    return len(x.split('.'))"
   ]
  },
  {
   "cell_type": "code",
   "execution_count": 336,
   "metadata": {
    "ExecuteTime": {
     "end_time": "2019-01-27T15:37:58.305526Z",
     "start_time": "2019-01-27T15:37:58.096647Z"
    }
   },
   "outputs": [],
   "source": [
    "df_train_benin = pd.read_csv('Data/Train_Benign_Traffic.csv',encoding=\"latin1\")\n",
    "df_train_mal = pd.read_csv('Data/Train_Detections.csv')\n",
    "df_test = pd.read_csv('Data/Test_Set_Hackathon.csv')\n",
    "df_train_ips = pd.read_csv('Data/Train_IPS.csv')\n",
    "df_ips = pd.read_csv('Data/IPTypes.csv').set_index('ip')"
   ]
  },
  {
   "cell_type": "code",
   "execution_count": 337,
   "metadata": {
    "ExecuteTime": {
     "end_time": "2019-01-27T15:37:59.531735Z",
     "start_time": "2019-01-27T15:37:59.364774Z"
    }
   },
   "outputs": [
    {
     "name": "stderr",
     "output_type": "stream",
     "text": [
      "/Users/jeremybensoussan/anaconda3/envs/ITC/lib/python3.6/site-packages/ipykernel_launcher.py:4: FutureWarning: Sorting because non-concatenation axis is not aligned. A future version\n",
      "of pandas will change to not sort by default.\n",
      "\n",
      "To accept the future behavior, pass 'sort=False'.\n",
      "\n",
      "To retain the current behavior and silence the warning, pass 'sort=True'.\n",
      "\n",
      "  after removing the cwd from sys.path.\n"
     ]
    },
    {
     "data": {
      "text/html": [
       "<div>\n",
       "<style scoped>\n",
       "    .dataframe tbody tr th:only-of-type {\n",
       "        vertical-align: middle;\n",
       "    }\n",
       "\n",
       "    .dataframe tbody tr th {\n",
       "        vertical-align: top;\n",
       "    }\n",
       "\n",
       "    .dataframe thead th {\n",
       "        text-align: right;\n",
       "    }\n",
       "</style>\n",
       "<table border=\"1\" class=\"dataframe\">\n",
       "  <thead>\n",
       "    <tr style=\"text-align: right;\">\n",
       "      <th></th>\n",
       "      <th>client</th>\n",
       "      <th>dst_ip</th>\n",
       "      <th>dst_port</th>\n",
       "      <th>epoch_time</th>\n",
       "      <th>label</th>\n",
       "      <th>protocol</th>\n",
       "      <th>received_bytes</th>\n",
       "      <th>sent_bytes</th>\n",
       "      <th>src_ip</th>\n",
       "    </tr>\n",
       "  </thead>\n",
       "  <tbody>\n",
       "    <tr>\n",
       "      <th>0</th>\n",
       "      <td>2</td>\n",
       "      <td>222.58.210.46</td>\n",
       "      <td>443.0</td>\n",
       "      <td>1547242292</td>\n",
       "      <td>benign</td>\n",
       "      <td>1</td>\n",
       "      <td>44096</td>\n",
       "      <td>67712</td>\n",
       "      <td>10.197.88.33</td>\n",
       "    </tr>\n",
       "    <tr>\n",
       "      <th>1</th>\n",
       "      <td>5</td>\n",
       "      <td>110.244.46.16</td>\n",
       "      <td>443.0</td>\n",
       "      <td>1547468725</td>\n",
       "      <td>benign</td>\n",
       "      <td>1</td>\n",
       "      <td>7712</td>\n",
       "      <td>1990</td>\n",
       "      <td>10.0.11.69</td>\n",
       "    </tr>\n",
       "    <tr>\n",
       "      <th>2</th>\n",
       "      <td>2</td>\n",
       "      <td>23.130.21.5</td>\n",
       "      <td>443.0</td>\n",
       "      <td>1547415821</td>\n",
       "      <td>benign</td>\n",
       "      <td>1</td>\n",
       "      <td>12928</td>\n",
       "      <td>8464</td>\n",
       "      <td>192.168.174.137</td>\n",
       "    </tr>\n",
       "    <tr>\n",
       "      <th>3</th>\n",
       "      <td>2</td>\n",
       "      <td>71.55.163.78</td>\n",
       "      <td>443.0</td>\n",
       "      <td>1547152973</td>\n",
       "      <td>benign</td>\n",
       "      <td>1</td>\n",
       "      <td>19808</td>\n",
       "      <td>4376</td>\n",
       "      <td>192.168.190.183</td>\n",
       "    </tr>\n",
       "    <tr>\n",
       "      <th>4</th>\n",
       "      <td>5</td>\n",
       "      <td>230.0.0.1</td>\n",
       "      <td>NaN</td>\n",
       "      <td>1547070189</td>\n",
       "      <td>benign</td>\n",
       "      <td>1</td>\n",
       "      <td>0</td>\n",
       "      <td>252</td>\n",
       "      <td>10.0.11.2</td>\n",
       "    </tr>\n",
       "  </tbody>\n",
       "</table>\n",
       "</div>"
      ],
      "text/plain": [
       "   client         dst_ip  dst_port  epoch_time   label  protocol  \\\n",
       "0       2  222.58.210.46     443.0  1547242292  benign         1   \n",
       "1       5  110.244.46.16     443.0  1547468725  benign         1   \n",
       "2       2    23.130.21.5     443.0  1547415821  benign         1   \n",
       "3       2   71.55.163.78     443.0  1547152973  benign         1   \n",
       "4       5      230.0.0.1       NaN  1547070189  benign         1   \n",
       "\n",
       "   received_bytes  sent_bytes           src_ip  \n",
       "0           44096       67712     10.197.88.33  \n",
       "1            7712        1990       10.0.11.69  \n",
       "2           12928        8464  192.168.174.137  \n",
       "3           19808        4376  192.168.190.183  \n",
       "4               0         252        10.0.11.2  "
      ]
     },
     "execution_count": 337,
     "metadata": {},
     "output_type": "execute_result"
    }
   ],
   "source": [
    "features = df_test.columns[1:]\n",
    "# easter_eggs = df[df.dst_ip.map(split_len) > 4 ].dst_ip\n",
    "df_train_benin['label'] = 'benign'\n",
    "df_train = pd.concat([df_train_benin,df_train_mal]).reset_index()\n",
    "df_train = df_train.drop(['index','Unnamed: 0','app_name','app_risk'],axis=1)\n",
    "df_train.protocol = df_train.protocol.replace({'UDP':2,'TCP':1})\n",
    "df_train = df_train[df_train.dst_ip.map(split_len) < 5 ].reset_index()\n",
    "df_train = df_train[df_train.src_ip.map(split_len) < 5 ].reset_index().drop(['index','level_0'],axis=1)\n",
    "df_train.head()"
   ]
  },
  {
   "cell_type": "code",
   "execution_count": 338,
   "metadata": {
    "ExecuteTime": {
     "end_time": "2019-01-27T15:38:05.403856Z",
     "start_time": "2019-01-27T15:38:05.048575Z"
    }
   },
   "outputs": [],
   "source": [
    "df_train = df_train.join(df_ips,on='src_ip',rsuffix='_src').drop('Unnamed: 0',axis=1)\n",
    "df_train = df_train.join(df_ips,on='src_ip',rsuffix='_src').drop('Unnamed: 0',axis=1)\n",
    "df_train = df_train.join(df_ips,on='dst_ip',lsuffix='_dst').drop(['type', 'subtype', 'Unnamed: 0'],axis=1)\n",
    "df_train['log_sent_bytes'] = np.log1p(df_train.sent_bytes).astype(int)\n",
    "df_train['log_received_bytes'] = np.log1p(df_train.received_bytes).astype(int)\n",
    "df_train =  pd.concat([pd.DataFrame(df_train.dst_ip.apply(lambda x: x.split('.')).values.tolist(),\n",
    "             columns=['dst_int_1','dst_int_2','dst_int_3','dst_int_4']),df_train],axis=1)\n",
    "df_train =  pd.concat([pd.DataFrame(df_train.src_ip.apply(lambda x: x.split('.')).values.tolist(),\n",
    "             columns=['src_int_1','src_int_2','src_int_3','src_int_4']),df_train],axis=1)"
   ]
  },
  {
   "cell_type": "code",
   "execution_count": 339,
   "metadata": {
    "ExecuteTime": {
     "end_time": "2019-01-27T15:38:10.299170Z",
     "start_time": "2019-01-27T15:38:10.272173Z"
    },
    "scrolled": true
   },
   "outputs": [
    {
     "data": {
      "text/html": [
       "<div>\n",
       "<style scoped>\n",
       "    .dataframe tbody tr th:only-of-type {\n",
       "        vertical-align: middle;\n",
       "    }\n",
       "\n",
       "    .dataframe tbody tr th {\n",
       "        vertical-align: top;\n",
       "    }\n",
       "\n",
       "    .dataframe thead th {\n",
       "        text-align: right;\n",
       "    }\n",
       "</style>\n",
       "<table border=\"1\" class=\"dataframe\">\n",
       "  <thead>\n",
       "    <tr style=\"text-align: right;\">\n",
       "      <th></th>\n",
       "      <th>src_int_1</th>\n",
       "      <th>src_int_2</th>\n",
       "      <th>src_int_3</th>\n",
       "      <th>src_int_4</th>\n",
       "      <th>dst_int_1</th>\n",
       "      <th>dst_int_2</th>\n",
       "      <th>dst_int_3</th>\n",
       "      <th>dst_int_4</th>\n",
       "      <th>client</th>\n",
       "      <th>dst_ip</th>\n",
       "      <th>...</th>\n",
       "      <th>protocol</th>\n",
       "      <th>received_bytes</th>\n",
       "      <th>sent_bytes</th>\n",
       "      <th>src_ip</th>\n",
       "      <th>type_dst</th>\n",
       "      <th>subtype_dst</th>\n",
       "      <th>type_src</th>\n",
       "      <th>subtype_src</th>\n",
       "      <th>log_sent_bytes</th>\n",
       "      <th>log_received_bytes</th>\n",
       "    </tr>\n",
       "  </thead>\n",
       "  <tbody>\n",
       "    <tr>\n",
       "      <th>0</th>\n",
       "      <td>10</td>\n",
       "      <td>197</td>\n",
       "      <td>88</td>\n",
       "      <td>33</td>\n",
       "      <td>222</td>\n",
       "      <td>58</td>\n",
       "      <td>210</td>\n",
       "      <td>46</td>\n",
       "      <td>2</td>\n",
       "      <td>222.58.210.46</td>\n",
       "      <td>...</td>\n",
       "      <td>1</td>\n",
       "      <td>44096</td>\n",
       "      <td>67712</td>\n",
       "      <td>10.197.88.33</td>\n",
       "      <td>Internal</td>\n",
       "      <td>Class A</td>\n",
       "      <td>Internal</td>\n",
       "      <td>Class A</td>\n",
       "      <td>11</td>\n",
       "      <td>10</td>\n",
       "    </tr>\n",
       "    <tr>\n",
       "      <th>1</th>\n",
       "      <td>10</td>\n",
       "      <td>0</td>\n",
       "      <td>11</td>\n",
       "      <td>69</td>\n",
       "      <td>110</td>\n",
       "      <td>244</td>\n",
       "      <td>46</td>\n",
       "      <td>16</td>\n",
       "      <td>5</td>\n",
       "      <td>110.244.46.16</td>\n",
       "      <td>...</td>\n",
       "      <td>1</td>\n",
       "      <td>7712</td>\n",
       "      <td>1990</td>\n",
       "      <td>10.0.11.69</td>\n",
       "      <td>Internal</td>\n",
       "      <td>Class A</td>\n",
       "      <td>Internal</td>\n",
       "      <td>Class A</td>\n",
       "      <td>7</td>\n",
       "      <td>8</td>\n",
       "    </tr>\n",
       "    <tr>\n",
       "      <th>2</th>\n",
       "      <td>192</td>\n",
       "      <td>168</td>\n",
       "      <td>174</td>\n",
       "      <td>137</td>\n",
       "      <td>23</td>\n",
       "      <td>130</td>\n",
       "      <td>21</td>\n",
       "      <td>5</td>\n",
       "      <td>2</td>\n",
       "      <td>23.130.21.5</td>\n",
       "      <td>...</td>\n",
       "      <td>1</td>\n",
       "      <td>12928</td>\n",
       "      <td>8464</td>\n",
       "      <td>192.168.174.137</td>\n",
       "      <td>Internal</td>\n",
       "      <td>Class C</td>\n",
       "      <td>Internal</td>\n",
       "      <td>Class C</td>\n",
       "      <td>9</td>\n",
       "      <td>9</td>\n",
       "    </tr>\n",
       "    <tr>\n",
       "      <th>3</th>\n",
       "      <td>192</td>\n",
       "      <td>168</td>\n",
       "      <td>190</td>\n",
       "      <td>183</td>\n",
       "      <td>71</td>\n",
       "      <td>55</td>\n",
       "      <td>163</td>\n",
       "      <td>78</td>\n",
       "      <td>2</td>\n",
       "      <td>71.55.163.78</td>\n",
       "      <td>...</td>\n",
       "      <td>1</td>\n",
       "      <td>19808</td>\n",
       "      <td>4376</td>\n",
       "      <td>192.168.190.183</td>\n",
       "      <td>Internal</td>\n",
       "      <td>Class C</td>\n",
       "      <td>Internal</td>\n",
       "      <td>Class C</td>\n",
       "      <td>8</td>\n",
       "      <td>9</td>\n",
       "    </tr>\n",
       "    <tr>\n",
       "      <th>4</th>\n",
       "      <td>10</td>\n",
       "      <td>0</td>\n",
       "      <td>11</td>\n",
       "      <td>2</td>\n",
       "      <td>230</td>\n",
       "      <td>0</td>\n",
       "      <td>0</td>\n",
       "      <td>1</td>\n",
       "      <td>5</td>\n",
       "      <td>230.0.0.1</td>\n",
       "      <td>...</td>\n",
       "      <td>1</td>\n",
       "      <td>0</td>\n",
       "      <td>252</td>\n",
       "      <td>10.0.11.2</td>\n",
       "      <td>Internal</td>\n",
       "      <td>Class A</td>\n",
       "      <td>Internal</td>\n",
       "      <td>Class A</td>\n",
       "      <td>5</td>\n",
       "      <td>0</td>\n",
       "    </tr>\n",
       "  </tbody>\n",
       "</table>\n",
       "<p>5 rows × 23 columns</p>\n",
       "</div>"
      ],
      "text/plain": [
       "  src_int_1 src_int_2 src_int_3 src_int_4 dst_int_1 dst_int_2 dst_int_3  \\\n",
       "0        10       197        88        33       222        58       210   \n",
       "1        10         0        11        69       110       244        46   \n",
       "2       192       168       174       137        23       130        21   \n",
       "3       192       168       190       183        71        55       163   \n",
       "4        10         0        11         2       230         0         0   \n",
       "\n",
       "  dst_int_4  client         dst_ip  ...  protocol received_bytes sent_bytes  \\\n",
       "0        46       2  222.58.210.46  ...         1          44096      67712   \n",
       "1        16       5  110.244.46.16  ...         1           7712       1990   \n",
       "2         5       2    23.130.21.5  ...         1          12928       8464   \n",
       "3        78       2   71.55.163.78  ...         1          19808       4376   \n",
       "4         1       5      230.0.0.1  ...         1              0        252   \n",
       "\n",
       "            src_ip  type_dst  subtype_dst  type_src subtype_src  \\\n",
       "0     10.197.88.33  Internal      Class A  Internal     Class A   \n",
       "1       10.0.11.69  Internal      Class A  Internal     Class A   \n",
       "2  192.168.174.137  Internal      Class C  Internal     Class C   \n",
       "3  192.168.190.183  Internal      Class C  Internal     Class C   \n",
       "4        10.0.11.2  Internal      Class A  Internal     Class A   \n",
       "\n",
       "  log_sent_bytes log_received_bytes  \n",
       "0             11                 10  \n",
       "1              7                  8  \n",
       "2              9                  9  \n",
       "3              8                  9  \n",
       "4              5                  0  \n",
       "\n",
       "[5 rows x 23 columns]"
      ]
     },
     "execution_count": 339,
     "metadata": {},
     "output_type": "execute_result"
    }
   ],
   "source": [
    "df_train.head()"
   ]
  },
  {
   "cell_type": "code",
   "execution_count": 467,
   "metadata": {
    "ExecuteTime": {
     "end_time": "2019-01-27T16:12:01.955027Z",
     "start_time": "2019-01-27T16:12:01.918943Z"
    }
   },
   "outputs": [
    {
     "data": {
      "text/plain": [
       "50439     192.168.98.222\n",
       "50440    212.189.218.209\n",
       "50447        179.239.5.6\n",
       "50450      114.77.190.35\n",
       "50457       58.59.105.78\n",
       "50458    212.189.218.209\n",
       "50460       73.135.105.9\n",
       "50462     192.168.98.222\n",
       "50476     184.79.251.128\n",
       "50479      173.99.238.81\n",
       "50485    204.134.112.241\n",
       "50496      110.18.47.145\n",
       "50498      60.88.164.186\n",
       "50504     40.201.191.165\n",
       "50506      222.58.204.12\n",
       "50507     192.168.98.222\n",
       "50510    149.204.181.113\n",
       "50515       28.71.63.178\n",
       "50516    212.189.218.209\n",
       "50518     219.105.49.212\n",
       "50519     200.187.98.169\n",
       "50526      114.77.190.35\n",
       "50529        97.184.0.10\n",
       "50532     60.169.245.138\n",
       "50536        97.184.0.10\n",
       "50544       40.231.9.114\n",
       "50550    168.210.195.122\n",
       "50558     40.241.253.240\n",
       "50559      114.77.190.35\n",
       "50564     192.168.98.222\n",
       "              ...       \n",
       "50856     110.237.145.10\n",
       "50862      93.248.214.84\n",
       "50872     211.185.208.80\n",
       "50877      204.46.87.247\n",
       "50884        97.184.0.10\n",
       "50885        19.32.66.61\n",
       "50888      24.196.83.205\n",
       "50889      114.77.190.35\n",
       "50895      114.77.190.35\n",
       "50904     192.168.98.222\n",
       "50908      222.58.206.76\n",
       "50909       184.79.251.0\n",
       "50912       106.20.0.247\n",
       "50920     192.168.98.222\n",
       "50930       28.71.63.178\n",
       "50931    204.134.112.241\n",
       "50937    215.126.127.231\n",
       "50940      114.77.190.35\n",
       "50941     40.201.191.165\n",
       "50946      114.77.190.35\n",
       "50947      222.58.204.12\n",
       "50952       28.71.63.178\n",
       "50960      40.224.176.40\n",
       "50961     192.168.98.222\n",
       "50968      222.58.206.76\n",
       "50969       11.79.68.110\n",
       "50970    212.189.218.209\n",
       "50976      114.77.190.35\n",
       "50977      214.91.196.46\n",
       "50981     192.168.98.222\n",
       "Name: dst_ip, Length: 127, dtype: object"
      ]
     },
     "execution_count": 467,
     "metadata": {},
     "output_type": "execute_result"
    }
   ],
   "source": [
    "suspicious_ips = df_train[(df_train['label'] == 'Malware')].dst_ip\n",
    "df_train_benign = df_train[df_train['label'] == 'benign']\n",
    "suspicious_ips = suspicious_ips[~suspicious_ips.isin(df_train_benign.dst_ip)]\n",
    "suspicious_ips[suspicious_ips != '8.8.8.8']"
   ]
  },
  {
   "cell_type": "code",
   "execution_count": null,
   "metadata": {
    "ExecuteTime": {
     "end_time": "2019-01-27T13:06:48.932281Z",
     "start_time": "2019-01-27T13:06:48.929065Z"
    }
   },
   "outputs": [],
   "source": [
    "def plot_count(series):\n",
    "    counts = series.value_counts()\n",
    "    plt.figure(figsize=(5,2))\n",
    "    sns.barplot(counts.index,counts)"
   ]
  },
  {
   "cell_type": "code",
   "execution_count": null,
   "metadata": {
    "ExecuteTime": {
     "end_time": "2019-01-27T13:06:48.949392Z",
     "start_time": "2019-01-27T13:06:48.933997Z"
    }
   },
   "outputs": [],
   "source": [
    "def plot_pca(df):\n",
    "    pca = PCA(n_components=2)\n",
    "    to_pca = df.drop(['dst_ip','src_ip'],axis=1)\n",
    "    to_pca = to_pca.dropna()\n",
    "    labels_pca = to_pca.label\n",
    "    proj = pca.fit_transform(to_pca.drop(['label'],axis=1))\n",
    "    plt.figure(figsize=(10,6))\n",
    "    sns.scatterplot(proj[:,0],proj[:,1],hue=labels_pca)"
   ]
  },
  {
   "cell_type": "code",
   "execution_count": null,
   "metadata": {
    "ExecuteTime": {
     "end_time": "2019-01-27T13:06:49.518772Z",
     "start_time": "2019-01-27T13:06:48.951408Z"
    }
   },
   "outputs": [],
   "source": [
    "#dummies \n",
    "df_train = pd.concat([df_train,pd.get_dummies(df_train.dst_port,prefix='port')],axis=1)"
   ]
  },
  {
   "cell_type": "code",
   "execution_count": null,
   "metadata": {
    "ExecuteTime": {
     "end_time": "2019-01-27T13:06:49.524315Z",
     "start_time": "2019-01-27T13:06:46.760Z"
    }
   },
   "outputs": [],
   "source": [
    "#separate df for client\n",
    "\n",
    "df_1 = df_train[df_train.client == 1].drop('client',axis=1)\n",
    "df_2 = df_train[df_train.client == 2].drop('client',axis=1)\n",
    "df_3 = df_train[df_train.client == 3].drop('client',axis=1)\n",
    "df_4 = df_train[df_train.client == 4].drop('client',axis=1)\n",
    "df_5 = df_train[df_train.client == 5].drop('client',axis=1)"
   ]
  },
  {
   "cell_type": "code",
   "execution_count": null,
   "metadata": {
    "ExecuteTime": {
     "end_time": "2019-01-27T13:06:49.525714Z",
     "start_time": "2019-01-27T13:06:46.763Z"
    }
   },
   "outputs": [],
   "source": [
    "list_of_df = [df_1,df_2,df_3,df_4,df_5]\n",
    "\n",
    "for i,df in enumerate(list_of_df):\n",
    "    plot_count(df.label)\n",
    "    plt.title(f'client {i+1}')\n",
    "    plt.show()"
   ]
  },
  {
   "cell_type": "code",
   "execution_count": null,
   "metadata": {
    "ExecuteTime": {
     "end_time": "2019-01-27T13:06:49.527088Z",
     "start_time": "2019-01-27T13:06:46.766Z"
    },
    "scrolled": false
   },
   "outputs": [],
   "source": [
    "for i, df in enumerate(list_of_df):\n",
    "    plot_pca(df)\n",
    "    plt.title(f'client {i+1}')\n",
    "    plt.show()"
   ]
  },
  {
   "cell_type": "code",
   "execution_count": null,
   "metadata": {
    "ExecuteTime": {
     "end_time": "2019-01-27T13:06:49.528769Z",
     "start_time": "2019-01-27T13:06:46.769Z"
    }
   },
   "outputs": [],
   "source": [
    "prediction = []\n",
    "models = []\n",
    "scores = []\n",
    "for df in list_of_df:\n",
    "    X = df.drop(['label','src_ip','dst_ip'],axis=1)\n",
    "    y = df.label\n",
    "    X_train, X_test, y_train, y_test = train_test_split(X, y, test_size=0.2, random_state=42)\n",
    "    \n",
    "    rf = RandomForestClassifier(class_weight='balanced')\n",
    "    rf.fit(X_train,y_train)\n",
    "    p = rf.predict(X_test)\n",
    "    prediction.append(p)\n",
    "    scores.append(precision_recall_fscore_support(y_test,p))\n",
    "    models.append(rf)\n",
    "    "
   ]
  },
  {
   "cell_type": "code",
   "execution_count": 720,
   "metadata": {
    "ExecuteTime": {
     "end_time": "2019-01-27T17:11:02.066507Z",
     "start_time": "2019-01-27T17:10:59.998196Z"
    }
   },
   "outputs": [
    {
     "name": "stdout",
     "output_type": "stream",
     "text": [
      "False    11145\n",
      "True        13\n",
      "dtype: int64\n"
     ]
    },
    {
     "data": {
      "text/plain": [
       "(164, 8)"
      ]
     },
     "execution_count": 720,
     "metadata": {},
     "output_type": "execute_result"
    }
   ],
   "source": [
    "# preds = df_test.apply(lambda x: True if x.dst_ip in suspicious_ips.to_list()\n",
    "#                       and x.sent_bytes != 1282\n",
    "#                       and x.received_bytes != 4176\n",
    "#                       and x.received_bytes != 2002944\n",
    "#                       else False, axis=1).astype(bool)\n",
    "\n",
    "pred_1 = df_test.apply(lambda x: True \n",
    "                      if \n",
    "                      x.dst_ip in ['10.200.105.200', '10.200.105.201', '10.200.105.202']\n",
    "                      and x.dst_port == 53\n",
    "                      and (x.received_bytes > 0 or x.sent_bytes > 0)\n",
    "                      and x.received_bytes < 200\n",
    "                      else False, axis=1).astype(bool)\n",
    "\n",
    "pred_2 = df_test.apply(lambda x: True \n",
    "                      if \n",
    "                      x.dst_port == 53\n",
    "                      and x.received_bytes == 0 \n",
    "                      and x.sent_bytes == 0\n",
    "                      else False, axis=1).astype(bool)\n",
    "\n",
    "pred_3 = df_test.apply(lambda x: True \n",
    "                      if \n",
    "                      x.dst_ip == '8.8.8.8'\n",
    "                      and x.protocol == 'UDP'\n",
    "                      else False, axis=1).astype(bool)\n",
    "\n",
    "pred_4 = df_test.apply(lambda x: True if x.dst_ip in suspicious_ips.to_list()\n",
    "                       and x.dst_ip != '8.8.8.8'\n",
    "                      and x.sent_bytes != 1282\n",
    "                       and x.client == 2\n",
    "                       and x.dst_port == 80\n",
    "                      else False, axis=1).astype(bool)\n",
    "\n",
    "pred_5 = df_test.apply(lambda x: True if \n",
    "                       x.dst_port == 53\n",
    "                       and x.dst_ip == '10.200.105.201'\n",
    "                       and x.received_bytes <= 540\n",
    "                      else False, axis=1).astype(bool)\n",
    "\n",
    "pred_6 = df_test.apply(lambda x: True if \n",
    "                       x.dst_ip == '10.200.105.200'\n",
    "                       and x.received_bytes <= 200\n",
    "                      else False, axis=1).astype(bool)\n",
    "\n",
    "print(pred_4.value_counts())\n",
    "df_test[pred_1 | pred_2 | pred_3 | pred_4 | pred_5 | pred_6].shape"
   ]
  },
  {
   "cell_type": "code",
   "execution_count": 705,
   "metadata": {
    "ExecuteTime": {
     "end_time": "2019-01-27T16:55:21.665456Z",
     "start_time": "2019-01-27T16:55:21.502990Z"
    }
   },
   "outputs": [],
   "source": [
    "preds = {v:bool(k) == True for v,k in dict(preds).items()}"
   ]
  },
  {
   "cell_type": "code",
   "execution_count": 706,
   "metadata": {
    "ExecuteTime": {
     "end_time": "2019-01-27T16:55:22.762067Z",
     "start_time": "2019-01-27T16:55:22.605476Z"
    }
   },
   "outputs": [],
   "source": [
    "r = requests.post('http://192.168.1.24:30000/submission',\n",
    "                   json={ 'team':'DeepZuchinis',\n",
    "                          'password':'4lbertKmus',\n",
    "                          'submission': preds\n",
    "                         },\n",
    "                   verify=False)"
   ]
  },
  {
   "cell_type": "code",
   "execution_count": 707,
   "metadata": {
    "ExecuteTime": {
     "end_time": "2019-01-27T16:55:23.729042Z",
     "start_time": "2019-01-27T16:55:23.724997Z"
    }
   },
   "outputs": [
    {
     "data": {
      "text/plain": [
       "\"Your precision is so bad that we don't even want to display it...\""
      ]
     },
     "execution_count": 707,
     "metadata": {},
     "output_type": "execute_result"
    }
   ],
   "source": [
    "r.text"
   ]
  },
  {
   "cell_type": "code",
   "execution_count": 174,
   "metadata": {
    "ExecuteTime": {
     "end_time": "2019-01-27T14:20:07.343160Z",
     "start_time": "2019-01-27T14:20:07.330752Z"
    }
   },
   "outputs": [
    {
     "data": {
      "text/plain": [
       "Malware    292\n",
       "Adware      11\n",
       "Name: label, dtype: int64"
      ]
     },
     "execution_count": 174,
     "metadata": {},
     "output_type": "execute_result"
    }
   ],
   "source": [
    "df_train[df_train.dst_ip.isin(suspicious_ips)].label.value_counts()"
   ]
  },
  {
   "cell_type": "code",
   "execution_count": null,
   "metadata": {},
   "outputs": [],
   "source": []
  }
 ],
 "metadata": {
  "kernelspec": {
   "display_name": "Python [conda env:ITC]",
   "language": "python",
   "name": "conda-env-ITC-py"
  },
  "language_info": {
   "codemirror_mode": {
    "name": "ipython",
    "version": 3
   },
   "file_extension": ".py",
   "mimetype": "text/x-python",
   "name": "python",
   "nbconvert_exporter": "python",
   "pygments_lexer": "ipython3",
   "version": "3.6.7"
  },
  "toc": {
   "base_numbering": 1,
   "nav_menu": {},
   "number_sections": true,
   "sideBar": true,
   "skip_h1_title": false,
   "title_cell": "Table of Contents",
   "title_sidebar": "Contents",
   "toc_cell": false,
   "toc_position": {},
   "toc_section_display": true,
   "toc_window_display": false
  },
  "varInspector": {
   "cols": {
    "lenName": 16,
    "lenType": 16,
    "lenVar": 40
   },
   "kernels_config": {
    "python": {
     "delete_cmd_postfix": "",
     "delete_cmd_prefix": "del ",
     "library": "var_list.py",
     "varRefreshCmd": "print(var_dic_list())"
    },
    "r": {
     "delete_cmd_postfix": ") ",
     "delete_cmd_prefix": "rm(",
     "library": "var_list.r",
     "varRefreshCmd": "cat(var_dic_list()) "
    }
   },
   "types_to_exclude": [
    "module",
    "function",
    "builtin_function_or_method",
    "instance",
    "_Feature"
   ],
   "window_display": false
  }
 },
 "nbformat": 4,
 "nbformat_minor": 2
}
