{
 "cells": [
  {
   "cell_type": "code",
   "execution_count": 234,
   "metadata": {
    "ExecuteTime": {
     "end_time": "2019-01-28T10:48:10.020514Z",
     "start_time": "2019-01-28T10:48:10.011673Z"
    }
   },
   "outputs": [],
   "source": [
    "import pandas as pd\n",
    "import numpy as np\n",
    "import requests\n",
    "import matplotlib.pyplot as plt\n",
    "import seaborn as sns\n",
    "from sklearn.decomposition import PCA\n",
    "from sklearn.ensemble import RandomForestClassifier\n",
    "from sklearn.tree import DecisionTreeClassifier\n",
    "import re\n",
    "import csv\n",
    "from sklearn.model_selection import train_test_split\n",
    "from xgboost import XGBClassifier\n",
    "from sklearn.metrics import classification_report,precision_recall_fscore_support\n",
    "from IPython.display import Image  \n",
    "from sklearn.tree import export_graphviz\n",
    "from IPython.display import SVG\n",
    "# from graphviz import Source\n",
    "from IPython.display import display"
   ]
  },
  {
   "cell_type": "markdown",
   "metadata": {},
   "source": [
    "### Some function to help "
   ]
  },
  {
   "cell_type": "code",
   "execution_count": 235,
   "metadata": {
    "ExecuteTime": {
     "end_time": "2019-01-28T10:48:11.310686Z",
     "start_time": "2019-01-28T10:48:11.306220Z"
    }
   },
   "outputs": [],
   "source": [
    "def split_len(x):\n",
    "    return len(x.split('.'))"
   ]
  },
  {
   "cell_type": "markdown",
   "metadata": {},
   "source": [
    "### Import Data"
   ]
  },
  {
   "cell_type": "code",
   "execution_count": 236,
   "metadata": {
    "ExecuteTime": {
     "end_time": "2019-01-28T10:48:13.185827Z",
     "start_time": "2019-01-28T10:48:12.634403Z"
    }
   },
   "outputs": [],
   "source": [
    "df_train_benin = pd.read_csv('Data/Train_Benign_Traffic.csv',encoding=\"latin1\")\n",
    "df_train_mal = pd.read_csv('Data/Train_Detections.csv')\n",
    "df_train_ips = pd.read_csv('Data/Train_IPS.csv')\n",
    "df_test = pd.read_csv('Data/Test_Set_Hackathon.csv')\n",
    "df_ips = pd.read_csv('Data/IPTypes.csv').set_index('ip')"
   ]
  },
  {
   "cell_type": "code",
   "execution_count": 237,
   "metadata": {
    "ExecuteTime": {
     "end_time": "2019-01-28T10:48:14.550720Z",
     "start_time": "2019-01-28T10:48:14.543653Z"
    }
   },
   "outputs": [],
   "source": [
    "df_train_ips.attack = df_train_ips.attack.fillna(value=0)\n",
    "df_train_ips['dst_score'] = df_train_ips.attack.apply(lambda x: True if x else False)"
   ]
  },
  {
   "cell_type": "markdown",
   "metadata": {},
   "source": [
    "### Preprocessing"
   ]
  },
  {
   "cell_type": "code",
   "execution_count": 238,
   "metadata": {
    "ExecuteTime": {
     "end_time": "2019-01-28T10:48:17.163620Z",
     "start_time": "2019-01-28T10:48:17.136056Z"
    },
    "code_folding": []
   },
   "outputs": [],
   "source": [
    "def prep_train(df_train_benin,df_train_mal):\n",
    "    # prep dst port\n",
    "    df_train_benin.dst_port = df_train_benin.dst_port.fillna(value=-1)\n",
    "    df_train_benin.dst_port = df_train_benin.dst_port.astype(int)\n",
    "    df_train_mal.dst_port = df_train_mal.dst_port.fillna(value=-1)\n",
    "    df_train_mal.dst_port = df_train_mal.dst_port.astype(int)\n",
    "    \n",
    "    # labels\n",
    "    df_train_benin['label'] = 'benign'\n",
    "    # concatenate\n",
    "    df_train = pd.concat([df_train_benin,df_train_mal]).reset_index()\n",
    "    \n",
    "    #drop unwanted\n",
    "    df_train = df_train.drop(['index','Unnamed: 0','app_name','app_risk'],axis=1)\n",
    "    df_train = df_train[df_train.dst_ip.map(split_len) < 5 ].reset_index()\n",
    "    df_train = df_train[df_train.src_ip.map(split_len) < 5 ].reset_index().drop(['index','level_0'],axis=1)\n",
    "    \n",
    "    #map protocol\n",
    "    protocol_dic = {'UDP':2,'TCP':1}\n",
    "    df_train.protocol = df_train.protocol.replace(protocol_dic)\n",
    "    \n",
    "    # add ip features\n",
    "    df_train = df_train.join(df_ips,on='src_ip',rsuffix='_src').drop('Unnamed: 0',axis=1)\n",
    "    df_train = df_train.join(df_ips,on='src_ip',rsuffix='_src').drop('Unnamed: 0',axis=1)\n",
    "    df_train = df_train.join(df_ips,on='dst_ip',lsuffix='_dst').drop(['type', 'subtype', 'Unnamed: 0'],axis=1)\n",
    "    \n",
    "    # log of bytes\n",
    "    df_train['log_sent_bytes'] = np.log1p(df_train.sent_bytes).astype(int)\n",
    "    df_train['log_received_bytes'] = np.log1p(df_train.received_bytes).astype(int)\n",
    "    df_train['sum_bytes'] = df_train.sent_bytes + df_train.received_bytes\n",
    "    \n",
    "    # split ips\n",
    "    df_train =  pd.concat([pd.DataFrame(df_train.dst_ip.apply(lambda x: x.split('.')).values.tolist(),\n",
    "                 columns=['dst_int_1','dst_int_2','dst_int_3','dst_int_4']),df_train],axis=1)\n",
    "    df_train =  pd.concat([pd.DataFrame(df_train.src_ip.apply(lambda x: x.split('.')).values.tolist(),\n",
    "                 columns=['src_int_1','src_int_2','src_int_3','src_int_4']),df_train],axis=1)\n",
    "\n",
    "    # EXPORT TO CSV BEFORE MAPPING COL NAMES - UNCOMMENT TO EXPORT\n",
    "    # df_train.drop(['src_int_1', 'src_int_2', 'src_int_3', 'src_int_4', 'dst_int_1',\n",
    "    #        'dst_int_2', 'dst_int_3', 'dst_int_4'], axis=1).to_csv('Data/EnrichedData.csv')\n",
    "    \n",
    "    # map labels\n",
    "    label_dic = {'benign':False,'Malware':True,'Adware':True}\n",
    "    df_train.label = df_train.label.replace(label_dic)\n",
    "    \n",
    "    # map ip features\n",
    "    type_dic = {'Class A':0, 'Class C':1, 'External':2,\n",
    "                'Multicast':3,'Class B':4,'Broadcast address':5,'Internal':6}\n",
    "    df_train.type_dst = df_train.type_dst.replace(type_dic)\n",
    "    df_train.type_src = df_train.type_src.replace(type_dic)\n",
    "    df_train.subtype_dst = df_train.subtype_dst.replace(type_dic)\n",
    "    df_train.subtype_src = df_train.subtype_src.replace(type_dic)\n",
    "    df_train = df_train.drop('epoch_time',axis=1)\n",
    "    \n",
    "    dst_dic = dict(df_train_mal.groupby('dst_ip').count().client)\n",
    "    src_dic = dict(df_train_mal.groupby('src_ip').count().client)\n",
    "    dst_score = dict(df_train_ips.groupby('dst_ip').sum().dst_score)\n",
    "    src_score = dict(df_train_ips.groupby('src_ip').sum().dst_score)\n",
    "    \n",
    "    dst_dic = {**dst_dic,**dst_score}\n",
    "    src_dic = {**src_dic,**src_score}\n",
    "    \n",
    "    df_train['dst_score'] = df_train.dst_ip.replace(dst_dic)\n",
    "    df_train['src_score'] = df_train.src_ip.replace(src_dic)\n",
    "    df_train['dst_score'] = df_train.dst_score.apply(lambda x: 0 if isinstance(x,str) else x)\n",
    "    df_train['src_score'] = df_train.src_score.apply(lambda x: 0 if isinstance(x,str) else x)\n",
    "    \n",
    "\n",
    "    return df_train\n",
    "\n",
    "def separate_client(df_train):\n",
    "    df_1 = df_train[df_train.client == 1].drop('client',axis=1)\n",
    "    df_2 = df_train[df_train.client == 2].drop('client',axis=1)\n",
    "    df_3 = df_train[df_train.client == 3].drop('client',axis=1)\n",
    "    df_4 = df_train[df_train.client == 4].drop('client',axis=1)\n",
    "    df_5 = df_train[df_train.client == 5].drop('client',axis=1)\n",
    "    list_of_df = [df_1,df_2,df_3,df_4,df_5]\n",
    "    return list_of_df\n",
    "\n",
    "def add_port_ft(df):\n",
    "    all_port = list(np.append(df_train.dst_port.unique(),df_test.dst_port))\n",
    "    all_port = list(set([str(el) for el in all_port]))\n",
    "    for port in all_port:\n",
    "        df[port] = 0\n",
    "#     df = df.apply(lambda x: x[x.dst_port] = 1)\n",
    "    return df"
   ]
  },
  {
   "cell_type": "code",
   "execution_count": 239,
   "metadata": {
    "ExecuteTime": {
     "end_time": "2019-01-28T10:48:18.322224Z",
     "start_time": "2019-01-28T10:48:18.303043Z"
    }
   },
   "outputs": [],
   "source": [
    "def prep_test(df_test):\n",
    "    df_test = df_test.drop('Unnamed: 0',axis=1)\n",
    "    \n",
    "    # prep dst port\n",
    "    df_test.dst_port = df_test.dst_port.fillna(value=-1)\n",
    "    df_test.dst_port = df_test.dst_port.astype(int)\n",
    "    \n",
    "    #drop unwanted\n",
    "    df_test = df_test[df_test.dst_ip.map(split_len) < 5 ].reset_index()\n",
    "    df_test = df_test[df_test.src_ip.map(split_len) < 5 ].reset_index().drop(['index','level_0'],axis=1)\n",
    "    \n",
    "    #map protocol\n",
    "    protocol_dic = {'UDP':2,'TCP':1}\n",
    "    df_test.protocol = df_test.protocol.replace(protocol_dic)\n",
    "    \n",
    "    # add ip features\n",
    "    df_test = df_test.join(df_ips,on='src_ip',rsuffix='_src').drop('Unnamed: 0',axis=1)\n",
    "    df_test = df_test.join(df_ips,on='src_ip',rsuffix='_src').drop('Unnamed: 0',axis=1)\n",
    "    df_test = df_test.join(df_ips,on='dst_ip',lsuffix='_dst').drop(['type', 'subtype', 'Unnamed: 0'],axis=1)\n",
    "    \n",
    "    # log of bytes\n",
    "    df_test['log_sent_bytes'] = np.log1p(df_test.sent_bytes).astype(int)\n",
    "    df_test['log_received_bytes'] = np.log1p(df_test.received_bytes).astype(int)\n",
    "    df_test['sum_bytes'] = np.log1p(df_test.sent_bytes + df_test.received_bytes).astype(int)\n",
    "    \n",
    "    # split ips\n",
    "    df_test =  pd.concat([pd.DataFrame(df_test.dst_ip.apply(lambda x: x.split('.')).values.tolist(),\n",
    "                 columns=['dst_int_1','dst_int_2','dst_int_3','dst_int_4']),df_test],axis=1)\n",
    "    df_test =  pd.concat([pd.DataFrame(df_test.src_ip.apply(lambda x: x.split('.')).values.tolist(),\n",
    "                 columns=['src_int_1','src_int_2','src_int_3','src_int_4']),df_test],axis=1)\n",
    "\n",
    "    # EXPORT TO CSV BEFORE MAPPING COL NAMES - UNCOMMENT TO EXPORT\n",
    "    # df_train.drop(['src_int_1', 'src_int_2', 'src_int_3', 'src_int_4', 'dst_int_1',\n",
    "    #        'dst_int_2', 'dst_int_3', 'dst_int_4'], axis=1).to_csv('Data/EnrichedData.csv')\n",
    "    \n",
    "    \n",
    "    # map ip features\n",
    "    type_dic = {'Class A':0, 'Class C':1, 'External':2,\n",
    "                'Multicast':3,'Class B':4,'Broadcast address':5,'Internal':6}\n",
    "    df_test.type_dst = df_test.type_dst.replace(type_dic)\n",
    "    df_test.type_src = df_test.type_src.replace(type_dic)\n",
    "    df_test.subtype_dst = df_test.subtype_dst.replace(type_dic)\n",
    "    df_test.subtype_src = df_test.subtype_src.replace(type_dic)\n",
    "    \n",
    "    dst_dic = dict(df_train_mal.groupby('dst_ip').count().client)\n",
    "    src_dic = dict(df_train_mal.groupby('src_ip').count().client)\n",
    "    dst_score = dict(df_train_ips.groupby('dst_ip').sum().dst_score)\n",
    "    src_score = dict(df_train_ips.groupby('src_ip').sum().dst_score)\n",
    "    \n",
    "    dst_dic = {**dst_dic,**dst_score}\n",
    "    src_dic = {**src_dic,**src_score}\n",
    "    \n",
    "    df_test['dst_score'] = df_test.dst_ip.replace(dst_dic)\n",
    "    df_test['src_score'] = df_test.src_ip.replace(src_dic)\n",
    "    df_test['dst_score'] = df_test.dst_score.apply(lambda x: 0 if isinstance(x,str) else x)\n",
    "    df_test['src_score'] = df_test.src_score.apply(lambda x: 0 if isinstance(x,str) else x)\n",
    "   \n",
    "        \n",
    "    return df_test\n",
    "    "
   ]
  },
  {
   "cell_type": "markdown",
   "metadata": {},
   "source": [
    "### Prepare dfs"
   ]
  },
  {
   "cell_type": "code",
   "execution_count": 240,
   "metadata": {
    "ExecuteTime": {
     "end_time": "2019-01-28T10:48:25.158846Z",
     "start_time": "2019-01-28T10:48:19.557235Z"
    }
   },
   "outputs": [
    {
     "name": "stderr",
     "output_type": "stream",
     "text": [
      "/home/yair/anaconda3/envs/CP/lib/python3.6/site-packages/ipykernel_launcher.py:11: FutureWarning: Sorting because non-concatenation axis is not aligned. A future version\n",
      "of pandas will change to not sort by default.\n",
      "\n",
      "To accept the future behavior, pass 'sort=False'.\n",
      "\n",
      "To retain the current behavior and silence the warning, pass 'sort=True'.\n",
      "\n",
      "  # This is added back by InteractiveShellApp.init_path()\n"
     ]
    }
   ],
   "source": [
    "df_train = prep_train(df_train_benin,df_train_mal)\n",
    "df_test = prep_test(df_test)"
   ]
  },
  {
   "cell_type": "markdown",
   "metadata": {},
   "source": [
    "### Random Forests"
   ]
  },
  {
   "cell_type": "code",
   "execution_count": 244,
   "metadata": {
    "ExecuteTime": {
     "end_time": "2019-01-28T10:51:50.391014Z",
     "start_time": "2019-01-28T10:51:48.162864Z"
    }
   },
   "outputs": [],
   "source": [
    "list_of_df = separate_client(df_train)\n",
    "prediction = []\n",
    "models = []\n",
    "scores = []\n",
    "for df in list_of_df:\n",
    "    X = df.drop(['label','src_ip','dst_ip'],axis=1)\n",
    "    y = df.label\n",
    "    X_train, X_test, y_train, y_test = train_test_split(X, y, test_size=0.2, random_state=42)\n",
    "    \n",
    "    rf = RandomForestClassifier(n_estimators=100,class_weight='balanced')\n",
    "    rf.fit(X_train,y_train)\n",
    "    p = rf.predict(X_test)\n",
    "    prediction.append(p)\n",
    "    scores.append(precision_recall_fscore_support(y_test,p))\n",
    "    models.append(rf)"
   ]
  },
  {
   "cell_type": "markdown",
   "metadata": {},
   "source": [
    "### Prediction per client"
   ]
  },
  {
   "cell_type": "code",
   "execution_count": 245,
   "metadata": {
    "ExecuteTime": {
     "end_time": "2019-01-28T10:53:17.984737Z",
     "start_time": "2019-01-28T10:51:51.910466Z"
    }
   },
   "outputs": [],
   "source": [
    "preds = []\n",
    "for i,row in df_test.iterrows():\n",
    "    idx = row['client'] - 1\n",
    "    model = models[idx]\n",
    "    arr = np.array(row.drop(['client','src_ip','dst_ip']).values)[np.newaxis,:]\n",
    "    preds.append((i,*model.predict(arr)))"
   ]
  },
  {
   "cell_type": "code",
   "execution_count": 274,
   "metadata": {
    "ExecuteTime": {
     "end_time": "2019-01-28T11:38:04.132776Z",
     "start_time": "2019-01-28T11:38:02.473242Z"
    }
   },
   "outputs": [
    {
     "data": {
      "image/png": "[encoded data removed]",
      "text/plain": [
       "<Figure size 1440x720 with 5 Axes>"
      ]
     },
     "metadata": {
      "needs_background": "light"
     },
     "output_type": "display_data"
    }
   ],
   "source": [
    "plt.figure(figsize=(20,10))\n",
    "for i in range(5):\n",
    "    plt.subplot(2,3,i+1)\n",
    "    ft_imp = models[i].feature_importances_\n",
    "    sns.barplot(ft_imp,X.columns,color='blue')\n",
    "    plt.title('Feature importance Client {}'.format(i+1))\n",
    "plt.tight_layout()\n",
    "plt.show()\n",
    "    "
   ]
  },
  {
   "cell_type": "code",
   "execution_count": 271,
   "metadata": {
    "ExecuteTime": {
     "end_time": "2019-01-28T11:35:54.115820Z",
     "start_time": "2019-01-28T11:35:54.108064Z"
    }
   },
   "outputs": [
    {
     "name": "stdout",
     "output_type": "stream",
     "text": [
      "\n",
      "Scores for Client 1\n",
      "\n",
      "Precision: 1.000, Recall: 0.500, F1_score: 0.667, Support: 2.000\n",
      "\n",
      "Scores for Client 2\n",
      "\n",
      "Precision: 1.000, Recall: 0.988, F1_score: 0.994, Support: 81.000\n",
      "\n",
      "Scores for Client 3\n",
      "\n",
      "Precision: 1.000, Recall: 1.000, F1_score: 1.000, Support: 7.000\n",
      "\n",
      "Scores for Client 5\n",
      "\n",
      "Precision: 1.000, Recall: 0.625, F1_score: 0.769, Support: 8.000\n"
     ]
    }
   ],
   "source": [
    "for i,sc in enumerate(scores):\n",
    "    if i == 3:\n",
    "        continue\n",
    "    print(f'\\nScores for Client {i+1}\\n')\n",
    "    print('Precision: {:.3f}, Recall: {:.3f}, F1_score: {:.3f}, Support: {:.3f}'.format(\n",
    "        sc[0][1],sc[1][1],sc[2][1],sc[3][1]))"
   ]
  },
  {
   "cell_type": "code",
   "execution_count": 143,
   "metadata": {
    "ExecuteTime": {
     "end_time": "2019-01-28T09:58:23.140256Z",
     "start_time": "2019-01-28T09:58:23.129487Z"
    }
   },
   "outputs": [],
   "source": [
    "preds = {v:bool(k) == True for v,k in dict(preds).items()}"
   ]
  },
  {
   "cell_type": "code",
   "execution_count": null,
   "metadata": {},
   "outputs": [],
   "source": [
    "r = requests.post('http://192.168.1.24:30000/submission',\n",
    "                   json={ 'team':'DeepZuchinis',\n",
    "                          'password':'4lbertKmus',\n",
    "                          'submission': preds\n",
    "                         },\n",
    "                   verify=False)"
   ]
  }
 ],
 "metadata": {
  "kernelspec": {
   "display_name": "CP",
   "language": "python",
   "name": "cp"
  },
  "language_info": {
   "codemirror_mode": {
    "name": "ipython",
    "version": 3
   },
   "file_extension": ".py",
   "mimetype": "text/x-python",
   "name": "python",
   "nbconvert_exporter": "python",
   "pygments_lexer": "ipython3",
   "version": "3.6.7"
  },
  "toc": {
   "base_numbering": 1,
   "nav_menu": {},
   "number_sections": true,
   "sideBar": true,
   "skip_h1_title": false,
   "title_cell": "Table of Contents",
   "title_sidebar": "Contents",
   "toc_cell": false,
   "toc_position": {},
   "toc_section_display": true,
   "toc_window_display": false
  },
  "varInspector": {
   "cols": {
    "lenName": 16,
    "lenType": 16,
    "lenVar": 40
   },
   "kernels_config": {
    "python": {
     "delete_cmd_postfix": "",
     "delete_cmd_prefix": "del ",
     "library": "var_list.py",
     "varRefreshCmd": "print(var_dic_list())"
    },
    "r": {
     "delete_cmd_postfix": ") ",
     "delete_cmd_prefix": "rm(",
     "library": "var_list.r",
     "varRefreshCmd": "cat(var_dic_list()) "
    }
   },
   "types_to_exclude": [
    "module",
    "function",
    "builtin_function_or_method",
    "instance",
    "_Feature"
   ],
   "window_display": false
  }
 },
 "nbformat": 4,
 "nbformat_minor": 2
}
